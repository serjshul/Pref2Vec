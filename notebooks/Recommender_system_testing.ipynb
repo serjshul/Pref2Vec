{
  "cells": [
    {
      "cell_type": "markdown",
      "metadata": {
        "id": "_lgNI5RddqxW"
      },
      "source": [
        "# ТЕСТИРОВАНИЕ РЕКОМЕНДАТЕЛЬНОЙ СИСТЕМЫ"
      ]
    },
    {
      "cell_type": "markdown",
      "metadata": {
        "id": "yo_3Obz9dx2a"
      },
      "source": [
        "## 1) Импорт используемых библиотек"
      ]
    },
    {
      "cell_type": "markdown",
      "source": [
        "Сначала необходимо инпортировать все библиотеки, которые будут использоваться при тестировании.\n",
        "\n",
        "Для работы с содержимым используемого Google Диска через платформу Google Colab требуется импортировать следующие библиотеки:\n",
        "- `drive` - модуль, который позволяет подключить Google Диск к виртуальной машине среды выполнения и использовать его содержимое."
      ],
      "metadata": {
        "id": "pvyzHX-2TGWI"
      }
    },
    {
      "cell_type": "code",
      "source": [
        "from google.colab import drive\n",
        "drive.mount('/content/drive')"
      ],
      "metadata": {
        "colab": {
          "base_uri": "https://localhost:8080/"
        },
        "id": "1eCdkrHUTO4t",
        "outputId": "fb44affb-4541-47b5-ce7a-09db436f4b6f"
      },
      "execution_count": 1,
      "outputs": [
        {
          "output_type": "stream",
          "name": "stdout",
          "text": [
            "Mounted at /content/drive\n"
          ]
        }
      ]
    },
    {
      "cell_type": "markdown",
      "source": [
        "Далее импортируем библиотеки, используемые в дальнейшем:\n",
        "- `pandas` - библиотека для обработки и анализа структурированных данных;\n",
        "- `numpy` - библиотека, которую применяют для математических вычислений: начиная с базовых функций и заканчивая линейной алгеброй;\n",
        "- `re` - библиотека, предоставляющая мощные инструменты для работы с текстом.\n",
        "- `gensim` - библиотека обработки естественного языка предназначения для «Тематического моделирования»;\n",
        "- `sklearn` - библиотека, реализующая методы машинного обучения, в состав которой входят различные алгоритмы, в том числе предназначенные для задач классификации, регрессионного и кластерного анализа данных, включая метод опорных векторов, метод случайного леса, алгоритм усиления градиента, метод k-средних и DBSCAN;\n",
        "- `plotly` - графическая библиотека, которая позволяется создавать интерактивные графики.;\n",
        "- `wordcloud` - библиотека, с помощью которой реализуется метод визуализации данных облако слов, используемый для представления текстовых данных, в котором размер каждого слова указывает на его частоту или важность."
      ],
      "metadata": {
        "id": "WULglZrhTQvN"
      }
    },
    {
      "cell_type": "code",
      "execution_count": 3,
      "metadata": {
        "colab": {
          "base_uri": "https://localhost:8080/"
        },
        "id": "nZeq6TZAdhoo",
        "outputId": "9fff41c0-4fb8-4705-a033-3067b3033714"
      },
      "outputs": [
        {
          "output_type": "stream",
          "name": "stdout",
          "text": [
            "Collecting scikit-learn-extra\n",
            "  Downloading scikit_learn_extra-0.3.0-cp310-cp310-manylinux_2_17_x86_64.manylinux2014_x86_64.whl (2.0 MB)\n",
            "\u001b[2K     \u001b[90m━━━━━━━━━━━━━━━━━━━━━━━━━━━━━━━━━━━━━━━━\u001b[0m \u001b[32m2.0/2.0 MB\u001b[0m \u001b[31m11.5 MB/s\u001b[0m eta \u001b[36m0:00:00\u001b[0m\n",
            "\u001b[?25hRequirement already satisfied: numpy>=1.13.3 in /usr/local/lib/python3.10/dist-packages (from scikit-learn-extra) (1.25.2)\n",
            "Requirement already satisfied: scipy>=0.19.1 in /usr/local/lib/python3.10/dist-packages (from scikit-learn-extra) (1.11.4)\n",
            "Requirement already satisfied: scikit-learn>=0.23.0 in /usr/local/lib/python3.10/dist-packages (from scikit-learn-extra) (1.2.2)\n",
            "Requirement already satisfied: joblib>=1.1.1 in /usr/local/lib/python3.10/dist-packages (from scikit-learn>=0.23.0->scikit-learn-extra) (1.4.2)\n",
            "Requirement already satisfied: threadpoolctl>=2.0.0 in /usr/local/lib/python3.10/dist-packages (from scikit-learn>=0.23.0->scikit-learn-extra) (3.5.0)\n",
            "Installing collected packages: scikit-learn-extra\n",
            "Successfully installed scikit-learn-extra-0.3.0\n"
          ]
        }
      ],
      "source": [
        "pip install scikit-learn-extra"
      ]
    },
    {
      "cell_type": "code",
      "execution_count": 4,
      "metadata": {
        "id": "pmapVcONdzZB"
      },
      "outputs": [],
      "source": [
        "import numpy as np\n",
        "import pandas as pd\n",
        "\n",
        "import re\n",
        "import collections\n",
        "import datetime\n",
        "\n",
        "from gensim.parsing.preprocessing import preprocess_string\n",
        "from gensim.models.doc2vec import Doc2Vec\n",
        "\n",
        "from sklearn.manifold import TSNE\n",
        "from sklearn_extra.cluster import KMedoids\n",
        "from sklearn.metrics.pairwise import cosine_similarity\n",
        "from scipy.spatial import distance\n",
        "\n",
        "import plotly.express as px\n",
        "from plotly.subplots import make_subplots\n",
        "from wordcloud import WordCloud"
      ]
    },
    {
      "cell_type": "markdown",
      "metadata": {
        "id": "JFHXbFNleJ6B"
      },
      "source": [
        "## 2) Подготовка используемых ресурсов"
      ]
    },
    {
      "cell_type": "markdown",
      "source": [
        "Определим корпус книжных аннотаций и датасет пользовательских предпочтений, которые будут использованы далее при тестировании системы:"
      ],
      "metadata": {
        "id": "iql3jD0XTlFl"
      }
    },
    {
      "cell_type": "code",
      "source": [
        "df_user_data = pd.read_csv(\n",
        "    filepath_or_buffer='/content/drive/MyDrive/ВКР/children/children_user_data.csv',\n",
        "    index_col='user_id'\n",
        ")\n",
        "df_corpus_annotations = pd.read_csv(\n",
        "    filepath_or_buffer='/content/drive/MyDrive/ВКР/children/children_corpus_annotations.csv',\n",
        "    index_col='book_id'\n",
        ")"
      ],
      "metadata": {
        "id": "5Fe2bZ5rTkun"
      },
      "execution_count": null,
      "outputs": []
    },
    {
      "cell_type": "markdown",
      "source": [
        "После определим ранее обученную модель Doc2Vec:"
      ],
      "metadata": {
        "id": "VVGe5vF9Tukc"
      }
    },
    {
      "cell_type": "code",
      "source": [
        "filename_d2v = '/content/drive/MyDrive/ВКР/children/children_model_d2v.d2v'\n",
        "model_d2v = Doc2Vec.load(filename_d2v)\n",
        "VECTOR_SIZE = model_d2v.vector_size"
      ],
      "metadata": {
        "id": "XT1ECYn5TxQD"
      },
      "execution_count": null,
      "outputs": []
    },
    {
      "cell_type": "markdown",
      "source": [
        "Также определим ранее разработанные класс `UES` и модель `Pref2Vec`:"
      ],
      "metadata": {
        "id": "UPYXqqvFTwVH"
      }
    },
    {
      "cell_type": "code",
      "source": [
        "!python /content/drive/MyDrive/ВКР/user_embeddings_space.py\n",
        "!python /content/drive/MyDrive/ВКР/pref2vec.py"
      ],
      "metadata": {
        "id": "HBJjpwiMT63r"
      },
      "execution_count": 5,
      "outputs": []
    },
    {
      "cell_type": "markdown",
      "metadata": {
        "id": "fp0GJhw05CZC"
      },
      "source": [
        "## 3) Разработка класса Evaluator"
      ]
    },
    {
      "cell_type": "markdown",
      "source": [
        "Для тестирования разработанного ЯРС так же будет использоваться набор данных веб-сервиса «GoodReads». Проверка работы системы будет проводиться основе датасетов `comics_graphic_user_data.csv` и `children_user_data.csv`. Данные каждой записи о взаимодействиях какого-либо пользователя с различными книгами будут разбиты на две части:\n",
        "- 80% взаимодействий – выборка X, которая будет использоваться для формирования пользовательского пространства эмбеддингов и на основе которой будет происходить рекомендация книг;\n",
        "- 20% взаимодействий – выборка Y, которая будет браться за эталон рекомендации.\n",
        "\n",
        "Для оптимизации процесса проверки работы РС был разработан класс Evaluator, с помощью которого будет производиться подготовка тестовых данных и расчёт значений метрик NCDG@k и Recall@K\n"
      ],
      "metadata": {
        "id": "NdCDQnSfUOsJ"
      }
    },
    {
      "cell_type": "code",
      "execution_count": null,
      "metadata": {
        "id": "KA6EZEoixqbr"
      },
      "outputs": [],
      "source": [
        "class Evaluator:\n",
        "    '''\n",
        "    RECOMMENDER SYSTEM EVALUATOR\n",
        "\n",
        "    Класс Evaluator позволяет провести тестирование работы рекомендательной\n",
        "    системы на предмет качества формирования списков рекомендаций. Также этот\n",
        "    класс позволяет произвести продготовку тестовых данных (данных о\n",
        "    взаимодействиях пользователей с различными объектами).\n",
        "    '''\n",
        "\n",
        "\n",
        "    def __init__(self, model_p2v, test_percent):\n",
        "        '''\n",
        "        Метод инициализации класса, в котором производится инициализация полей\n",
        "        self.model_p2v (модель Pref2Vec) и self.test_percent (процент разбиения\n",
        "        данных на выборки X и Y).\n",
        "\n",
        "        Аргументы:\n",
        "        - model_p2v ('Pref2Vec') - модель Pref2Vec, работа которой будет\n",
        "            тестироваться;\n",
        "        - test_percent ('int') - процент разбиения данных на выборки X и Y.\n",
        "        '''\n",
        "\n",
        "        self.model_p2v = model_p2v\n",
        "        self.test_percent = test_percent\n",
        "\n",
        "\n",
        "    def test(self, users_data, filepath_or_buffer, k=20):\n",
        "        '''\n",
        "        Метод, который производит тестирование модели `model_p2v` на\n",
        "        пользовательских данных `users_data`.\n",
        "\n",
        "        Используются метрики NDCD@k, Recall@k и Precision@k. Результаты\n",
        "        тестирования сохраняются в поле `self.df_testing`. Кроме того, имеется\n",
        "        возможность загрузки результатов в CSV-файл.\n",
        "\n",
        "        Аргументы:\n",
        "        - users_data ('pandas.DataFrame') - пользовательские данные,\n",
        "            используемые при тестировании рекомендательной системы;\n",
        "        - filepath_or_buffer ('str') - путь к CSV-файлу, в который будут\n",
        "            сохранены результаты тестирования;\n",
        "        - k ('int') - параметр 'k', используемый в метриках NDCD@k, Recall@k и\n",
        "            Precision@k.\n",
        "        '''\n",
        "\n",
        "        self.df_testing = pd.DataFrame(columns=['user_id', f\"ndcg@{k}\", f\"recall@{k}\", f\"precision@{k}\"])\n",
        "        self.k = k\n",
        "\n",
        "        counter = 1\n",
        "        for index, row in users_data.iterrows():\n",
        "            try:\n",
        "                # Разделение пользовательских данных\n",
        "                x, y, y_true = self.__sample_preparation(index, row)\n",
        "                # Получение рекомендаций для текущего пользователя\n",
        "                recommendations = model_p2v.recommend_for_user(target_user_data=x.iloc[0], topn=k, show_info=False)\n",
        "                y_pred = [(lambda x: x[0])(x) for x in recommendations]\n",
        "                # Тестирование и запись результатов в self.df_testing\n",
        "                ndcg = self.ndcg_at_k(r=[x in y_true for x in y_pred])\n",
        "                recall = self.recall_at_k(y_true, y_pred)\n",
        "                precision = self.precision_at_k(y_true, y_pred)\n",
        "                print(f\"{counter}) User {index}:\")\n",
        "                print(f\"    ndcg@{k}      = {ndcg}\")\n",
        "                print(f\"    recall@{k}    = {recall}\")\n",
        "                print(f\"    precision@{k} = {precision}\")\n",
        "                self.df_testing.loc[len(self.df_testing)] = {\n",
        "                    'user_id': index,\n",
        "                    f\"ndcg@{k}\": ndcg,\n",
        "                    f\"recall@{k}\": recall,\n",
        "                    f\"precision@{k}\": precision\n",
        "                }\n",
        "                # Периодическая запись CSV-файла с результатами тестирования\n",
        "                counter += 1\n",
        "                if (counter % 5 == 0):\n",
        "                    self.df_testing.to_csv(filepath_or_buffer)\n",
        "            except:\n",
        "                continue\n",
        "\n",
        "        # Запись CSV-файла с результатами тестирования\n",
        "        self.df_testing.to_csv(filepath_or_buffer)\n",
        "\n",
        "\n",
        "    def __sample_preparation(self, user_id, user_data):\n",
        "        '''\n",
        "        Метод разбиения тестовых данных на выборки X и Y и ранжирования выборки Y.\n",
        "\n",
        "        Аргументы:\n",
        "        - user_id ('str') - идентификатор пользователя, чьи данные будут\n",
        "            подвержены разбиению;\n",
        "        - user_data ('pandas.Series') - собственно данные, которые будут\n",
        "            подвержены разбиению.\n",
        "\n",
        "        Возвращаются:\n",
        "        - self.x ('list') - формируемая выборка X;\n",
        "        - self.y ('list') - формируемая выборка Y;\n",
        "        - self.y_true ('list') - ранжированная выборка Y;\n",
        "        '''\n",
        "\n",
        "        self.x = pd.DataFrame(columns=['user_id', 'read', 'shelved', 'rating_0', 'rating_1', 'rating_2', 'rating_3', 'rating_4', 'rating_5'])\n",
        "        self.y = pd.DataFrame(columns=['user_id', 'read', 'shelved', 'rating_0', 'rating_1', 'rating_2', 'rating_3', 'rating_4', 'rating_5'])\n",
        "        row_x = {'user_id': user_id}\n",
        "        row_y = {'user_id': user_id}\n",
        "\n",
        "        # Разделение пользовательских данных на выборки X и Y\n",
        "        for interaction in interactions:\n",
        "            ids = re.findall('[0-9]+', user_data[interaction])\n",
        "            x_size = int(len(ids) * (100 - self.test_percent) / 100)\n",
        "            if (interaction in target_interactions):\n",
        "                row_x[interaction] = str(ids[:x_size])\n",
        "                row_y[interaction] = str(ids[x_size:])\n",
        "            else:\n",
        "                row_x[interaction] = str(ids)\n",
        "                row_y[interaction] = str([])\n",
        "        self.x.loc[0] = row_x\n",
        "        self.y.loc[0] = row_y\n",
        "\n",
        "        # Ранжирование выборки Y\n",
        "        self.y_true = self.__get_y_true(self.x.iloc[0], self.y.iloc[0])\n",
        "\n",
        "        return (self.x, self.y, self.y_true)\n",
        "\n",
        "\n",
        "    def __get_y_true(self, x, y):\n",
        "        '''\n",
        "        Метод, осуществляющий ранжирование рассматриваемой выборки Y.\n",
        "\n",
        "        Вычисляется косинусное сходство каждого объекта выборки Y с каждым\n",
        "        эмбеддингом выборки X, сохранив максимальные значения сходства. Далее\n",
        "        элементы выборки Y ранжируются по вычисленным сходствам и формируется\n",
        "        список `y_true`.\n",
        "\n",
        "        Аргументы:\n",
        "        - x ('pandas.Series') - выборка X;\n",
        "        - y ('pandas.Series') - выборка Y.\n",
        "\n",
        "        Возвращается:\n",
        "        - self.df_embeggings_y.index.values - ('list') - ранжированный список\n",
        "            данных выборки Y.\n",
        "        '''\n",
        "\n",
        "        # Формирование целевого пользовательского пространства X\n",
        "        ues_x = UES(x)\n",
        "        ues_x.df = ues_x.df[ues_x.df['interaction'].isin(target_interactions)]\n",
        "        self.df_embeggings_x = pd.DataFrame(\n",
        "            data={'embedding': ues_x.df['embedding'].values},\n",
        "            index=re.findall('[0-9][0-9]+', str(ues_x.df.index.values))\n",
        "        )\n",
        "        # Формирование исследуемого пользовательского пространства Y\n",
        "        ues_y = UES(y)\n",
        "        ues_y.df = ues_y.df[ues_y.df['interaction'].isin(target_interactions)]\n",
        "        self.df_embeggings_y = pd.DataFrame(\n",
        "            data={'embedding': ues_y.df['embedding'].values, 'distance': [0] * len(ues_y.df['embedding'].values)},\n",
        "            index=re.findall('[0-9][0-9]+', str(ues_y.df.index.values))\n",
        "        )\n",
        "        # Поиск наиболее схожих элементов в пространстве Y с элементами пространства X\n",
        "        for index, row in self.df_embeggings_y.iterrows():\n",
        "            self.df_embeggings_y.loc[index, 'distance'] = self.__get_nearest_distance(\n",
        "                embedding=row['embedding'],\n",
        "                embedding_id=index\n",
        "            )\n",
        "        self.df_embeggings_y = self.df_embeggings_y.sort_values(by='distance', ascending=False).head(self.k)\n",
        "\n",
        "        return self.df_embeggings_y.index.values\n",
        "\n",
        "\n",
        "    def __get_nearest_distance(self, embedding, embedding_id):\n",
        "        '''\n",
        "        Метод, при помощи которого вычисляется косинусное сходство эмбеддинга\n",
        "        объекта выборки Y с каждым эмбеддингом выборки X. Выводит максимальное\n",
        "        значение сходства.\n",
        "\n",
        "        Аргументы:\n",
        "        - embedding ('list') - эмбеддинг рассматриваемого объекта;\n",
        "        - embedding_id ('str') - индентификатор рассматриваемого объекта.\n",
        "\n",
        "        Возвращается:\n",
        "        - self.df_embeggings_x['distance'].max() ('float') - максимальное\n",
        "            значение сходства.\n",
        "        '''\n",
        "\n",
        "        # Рассчёт растояний между рассматриваемым объектом и целевыми\n",
        "        distances = cosine_similarity([embedding], list(self.df_embeggings_x['embedding']))\n",
        "        self.df_embeggings_x['distance'] = np.reshape(distances, self.df_embeggings_x['embedding'].size)\n",
        "\n",
        "        # Обработка случая, в котором найденное рассторие - расстояние с искомым объектом\n",
        "        if (self.df_embeggings_x['distance'].idxmax() == embedding_id):\n",
        "            self.df_embeggings_x.drop(self.df_embeggings_x['distance'].idxmax())\n",
        "\n",
        "        return self.df_embeggings_x['distance'].max()\n",
        "\n",
        "\n",
        "    def precision_at_k(self, y_true, y_pred):\n",
        "        '''\n",
        "        Метод, позволяющий получить значение метрики Precision@k.\n",
        "\n",
        "        Аргументы:\n",
        "        - y_true ('list') - эталонный список рекомендаций;\n",
        "        - y_pred ('list') - список рекомендаций, формируемый\n",
        "            рекомендательной системой;\n",
        "\n",
        "        Возвращает:\n",
        "        - precision ('float') - значение метрики Precision@k\n",
        "        '''\n",
        "\n",
        "        set_y_true = set(y_true)\n",
        "        set_y_pred = set(y_pred[:self.k])\n",
        "\n",
        "        precision = len(set_y_true & set_y_pred) / float(self.k)\n",
        "\n",
        "        return precision\n",
        "\n",
        "\n",
        "    def recall_at_k(self, y_true, y_pred):\n",
        "        '''\n",
        "        Метод, позволяющий получить значение метрики Recall@k.\n",
        "\n",
        "        Аргументы:\n",
        "        - y_true ('list') - эталонный список рекомендаций;\n",
        "        - y_pred ('list') - список рекомендаций, формируемый\n",
        "            рекомендательной системой;\n",
        "\n",
        "        Возвращает:\n",
        "        - recall ('float') - значение метрики Recall@k\n",
        "        '''\n",
        "\n",
        "        set_y_true = set(y_true)\n",
        "        set_y_pred = set(y_pred[:self.k])\n",
        "\n",
        "        recall = len(set_y_true & set_y_pred) / float(len(set_y_true))\n",
        "\n",
        "        return recall\n",
        "\n",
        "\n",
        "    def dcg_at_k(self, r, method=0):\n",
        "        '''\n",
        "        Метод, позволяющий получить значение метрики DCG@k.\n",
        "\n",
        "        Аргументы:\n",
        "        - y_true ('list') - эталонный список рекомендаций;\n",
        "        - y_pred ('list') - список рекомендаций, формируемый\n",
        "            рекомендательной системой;\n",
        "\n",
        "        Возвращает:\n",
        "        - dcg ('float') - значение метрики DCG@k\n",
        "        '''\n",
        "\n",
        "        r = np.asfarray(r)[:self.k]\n",
        "\n",
        "        if r.size:\n",
        "            if method == 0:\n",
        "                return r[0] + np.sum(r[1:] / np.log2(np.arange(2, r.size + 1)))\n",
        "            elif method == 1:\n",
        "                return np.sum(r / np.log2(np.arange(2, r.size + 2)))\n",
        "            else:\n",
        "                raise ValueError('method must be 0 or 1.')\n",
        "\n",
        "        return 0.\n",
        "\n",
        "\n",
        "    def ndcg_at_k(self, r, method=0):\n",
        "        '''\n",
        "        Метод, позволяющий получить значение метрики NDCG@k.\n",
        "\n",
        "        Аргументы:\n",
        "        - y_true ('list') - эталонный список рекомендаций;\n",
        "        - y_pred ('list') - список рекомендаций, формируемый\n",
        "            рекомендательной системой;\n",
        "\n",
        "        Возвращает:\n",
        "        - ndcg ('float') - значение метрики NDCG@k\n",
        "        '''\n",
        "\n",
        "        dcg_max = self.dcg_at_k(sorted(r, reverse=True), method)\n",
        "\n",
        "        if not dcg_max:\n",
        "            return 0.\n",
        "\n",
        "        return self.dcg_at_k(r, method) / dcg_max\n"
      ]
    },
    {
      "cell_type": "markdown",
      "source": [
        "Процесс тестирования модели Pref2Vec при помощи класса Evaluator представляет из себя следующую последовательность действий:\n",
        "1.\tПользовательские данные для одного пользователя разбиваются на выборки X, Y;\n",
        "2.\tВыборка Y ранжируется относительно выборки X;\n",
        "3.\tВыборка X подаётся на вход модели Pref2Vec, вычисляются рекомендации;\n",
        "4.\tПолученный список рекомендаций сравнивается с ранжированной выборкой Y посредством метрик NCDG@k и Recall@k;\n",
        "5.\tВышеописанный алгоритм повторяется для N пользователей. После вычисляются средние значения метрик NCDG@k и Recall@k и выводятся как результат тестирования.\n",
        "\n",
        "Далее приведём пример работы класса. Для тестирования будут использоваться данные пользователей, чья последовательность действий относительно длинная:"
      ],
      "metadata": {
        "id": "D6-YLooxUwhg"
      }
    },
    {
      "cell_type": "code",
      "source": [
        "df_user_data[df_user_data['rating_5'].str.len() > 400].iloc[:2]"
      ],
      "metadata": {
        "colab": {
          "base_uri": "https://localhost:8080/",
          "height": 317
        },
        "id": "Y5T-e2MEAmIa",
        "outputId": "d639ba96-e848-40b6-f79f-3695b0f021c9"
      },
      "execution_count": null,
      "outputs": [
        {
          "output_type": "execute_result",
          "data": {
            "text/plain": [
              "                                                                               read  \\\n",
              "user_id                                                                               \n",
              "bafc2d50014200cda7cb2b6acd60cd73  [31301849 30272307   137894 31672148 31258181 ...   \n",
              "a5ac0c0a728259db23e16e8e143e3325  [26247019 25667060 24464154 24464123   451932 ...   \n",
              "\n",
              "                                                                            shelved  \\\n",
              "user_id                                                                               \n",
              "bafc2d50014200cda7cb2b6acd60cd73  [18430804 18738869 15704307  6954438   389519 ...   \n",
              "a5ac0c0a728259db23e16e8e143e3325  [  954242   954243   954244   954240   954245 ...   \n",
              "\n",
              "                                                               rating_0  \\\n",
              "user_id                                                                   \n",
              "bafc2d50014200cda7cb2b6acd60cd73  [11476305 17137616  9041662  1098336]   \n",
              "a5ac0c0a728259db23e16e8e143e3325  [26247019 25667060 24464154 24464123]   \n",
              "\n",
              "                                 rating_1 rating_2  \\\n",
              "user_id                                              \n",
              "bafc2d50014200cda7cb2b6acd60cd73       []       []   \n",
              "a5ac0c0a728259db23e16e8e143e3325       []       []   \n",
              "\n",
              "                                                                           rating_3  \\\n",
              "user_id                                                                               \n",
              "bafc2d50014200cda7cb2b6acd60cd73  [18430203    59966 13094398 13526176   163377 ...   \n",
              "a5ac0c0a728259db23e16e8e143e3325  [8315979 6664559  717201 1382251  500463  2824...   \n",
              "\n",
              "                                                                           rating_4  \\\n",
              "user_id                                                                               \n",
              "bafc2d50014200cda7cb2b6acd60cd73  [  137894 31672148 31258181 30810333 30287874 ...   \n",
              "a5ac0c0a728259db23e16e8e143e3325  [12111331 26050510  9696114  6296507  9696113 ...   \n",
              "\n",
              "                                                                           rating_5  \n",
              "user_id                                                                              \n",
              "bafc2d50014200cda7cb2b6acd60cd73  [31301849 30272307 26778322 13084667 25266691 ...  \n",
              "a5ac0c0a728259db23e16e8e143e3325  [  451932  1949778  1311025  1311028  1311026 ...  "
            ],
            "text/html": [
              "\n",
              "  <div id=\"df-f5970efa-a58b-4647-a820-96c24fa05ff6\" class=\"colab-df-container\">\n",
              "    <div>\n",
              "<style scoped>\n",
              "    .dataframe tbody tr th:only-of-type {\n",
              "        vertical-align: middle;\n",
              "    }\n",
              "\n",
              "    .dataframe tbody tr th {\n",
              "        vertical-align: top;\n",
              "    }\n",
              "\n",
              "    .dataframe thead th {\n",
              "        text-align: right;\n",
              "    }\n",
              "</style>\n",
              "<table border=\"1\" class=\"dataframe\">\n",
              "  <thead>\n",
              "    <tr style=\"text-align: right;\">\n",
              "      <th></th>\n",
              "      <th>read</th>\n",
              "      <th>shelved</th>\n",
              "      <th>rating_0</th>\n",
              "      <th>rating_1</th>\n",
              "      <th>rating_2</th>\n",
              "      <th>rating_3</th>\n",
              "      <th>rating_4</th>\n",
              "      <th>rating_5</th>\n",
              "    </tr>\n",
              "    <tr>\n",
              "      <th>user_id</th>\n",
              "      <th></th>\n",
              "      <th></th>\n",
              "      <th></th>\n",
              "      <th></th>\n",
              "      <th></th>\n",
              "      <th></th>\n",
              "      <th></th>\n",
              "      <th></th>\n",
              "    </tr>\n",
              "  </thead>\n",
              "  <tbody>\n",
              "    <tr>\n",
              "      <th>bafc2d50014200cda7cb2b6acd60cd73</th>\n",
              "      <td>[31301849 30272307   137894 31672148 31258181 ...</td>\n",
              "      <td>[18430804 18738869 15704307  6954438   389519 ...</td>\n",
              "      <td>[11476305 17137616  9041662  1098336]</td>\n",
              "      <td>[]</td>\n",
              "      <td>[]</td>\n",
              "      <td>[18430203    59966 13094398 13526176   163377 ...</td>\n",
              "      <td>[  137894 31672148 31258181 30810333 30287874 ...</td>\n",
              "      <td>[31301849 30272307 26778322 13084667 25266691 ...</td>\n",
              "    </tr>\n",
              "    <tr>\n",
              "      <th>a5ac0c0a728259db23e16e8e143e3325</th>\n",
              "      <td>[26247019 25667060 24464154 24464123   451932 ...</td>\n",
              "      <td>[  954242   954243   954244   954240   954245 ...</td>\n",
              "      <td>[26247019 25667060 24464154 24464123]</td>\n",
              "      <td>[]</td>\n",
              "      <td>[]</td>\n",
              "      <td>[8315979 6664559  717201 1382251  500463  2824...</td>\n",
              "      <td>[12111331 26050510  9696114  6296507  9696113 ...</td>\n",
              "      <td>[  451932  1949778  1311025  1311028  1311026 ...</td>\n",
              "    </tr>\n",
              "  </tbody>\n",
              "</table>\n",
              "</div>\n",
              "    <div class=\"colab-df-buttons\">\n",
              "\n",
              "  <div class=\"colab-df-container\">\n",
              "    <button class=\"colab-df-convert\" onclick=\"convertToInteractive('df-f5970efa-a58b-4647-a820-96c24fa05ff6')\"\n",
              "            title=\"Convert this dataframe to an interactive table.\"\n",
              "            style=\"display:none;\">\n",
              "\n",
              "  <svg xmlns=\"http://www.w3.org/2000/svg\" height=\"24px\" viewBox=\"0 -960 960 960\">\n",
              "    <path d=\"M120-120v-720h720v720H120Zm60-500h600v-160H180v160Zm220 220h160v-160H400v160Zm0 220h160v-160H400v160ZM180-400h160v-160H180v160Zm440 0h160v-160H620v160ZM180-180h160v-160H180v160Zm440 0h160v-160H620v160Z\"/>\n",
              "  </svg>\n",
              "    </button>\n",
              "\n",
              "  <style>\n",
              "    .colab-df-container {\n",
              "      display:flex;\n",
              "      gap: 12px;\n",
              "    }\n",
              "\n",
              "    .colab-df-convert {\n",
              "      background-color: #E8F0FE;\n",
              "      border: none;\n",
              "      border-radius: 50%;\n",
              "      cursor: pointer;\n",
              "      display: none;\n",
              "      fill: #1967D2;\n",
              "      height: 32px;\n",
              "      padding: 0 0 0 0;\n",
              "      width: 32px;\n",
              "    }\n",
              "\n",
              "    .colab-df-convert:hover {\n",
              "      background-color: #E2EBFA;\n",
              "      box-shadow: 0px 1px 2px rgba(60, 64, 67, 0.3), 0px 1px 3px 1px rgba(60, 64, 67, 0.15);\n",
              "      fill: #174EA6;\n",
              "    }\n",
              "\n",
              "    .colab-df-buttons div {\n",
              "      margin-bottom: 4px;\n",
              "    }\n",
              "\n",
              "    [theme=dark] .colab-df-convert {\n",
              "      background-color: #3B4455;\n",
              "      fill: #D2E3FC;\n",
              "    }\n",
              "\n",
              "    [theme=dark] .colab-df-convert:hover {\n",
              "      background-color: #434B5C;\n",
              "      box-shadow: 0px 1px 3px 1px rgba(0, 0, 0, 0.15);\n",
              "      filter: drop-shadow(0px 1px 2px rgba(0, 0, 0, 0.3));\n",
              "      fill: #FFFFFF;\n",
              "    }\n",
              "  </style>\n",
              "\n",
              "    <script>\n",
              "      const buttonEl =\n",
              "        document.querySelector('#df-f5970efa-a58b-4647-a820-96c24fa05ff6 button.colab-df-convert');\n",
              "      buttonEl.style.display =\n",
              "        google.colab.kernel.accessAllowed ? 'block' : 'none';\n",
              "\n",
              "      async function convertToInteractive(key) {\n",
              "        const element = document.querySelector('#df-f5970efa-a58b-4647-a820-96c24fa05ff6');\n",
              "        const dataTable =\n",
              "          await google.colab.kernel.invokeFunction('convertToInteractive',\n",
              "                                                    [key], {});\n",
              "        if (!dataTable) return;\n",
              "\n",
              "        const docLinkHtml = 'Like what you see? Visit the ' +\n",
              "          '<a target=\"_blank\" href=https://colab.research.google.com/notebooks/data_table.ipynb>data table notebook</a>'\n",
              "          + ' to learn more about interactive tables.';\n",
              "        element.innerHTML = '';\n",
              "        dataTable['output_type'] = 'display_data';\n",
              "        await google.colab.output.renderOutput(dataTable, element);\n",
              "        const docLink = document.createElement('div');\n",
              "        docLink.innerHTML = docLinkHtml;\n",
              "        element.appendChild(docLink);\n",
              "      }\n",
              "    </script>\n",
              "  </div>\n",
              "\n",
              "\n",
              "<div id=\"df-31e9846d-1fc4-4854-9c7c-5f4d054a7c25\">\n",
              "  <button class=\"colab-df-quickchart\" onclick=\"quickchart('df-31e9846d-1fc4-4854-9c7c-5f4d054a7c25')\"\n",
              "            title=\"Suggest charts\"\n",
              "            style=\"display:none;\">\n",
              "\n",
              "<svg xmlns=\"http://www.w3.org/2000/svg\" height=\"24px\"viewBox=\"0 0 24 24\"\n",
              "     width=\"24px\">\n",
              "    <g>\n",
              "        <path d=\"M19 3H5c-1.1 0-2 .9-2 2v14c0 1.1.9 2 2 2h14c1.1 0 2-.9 2-2V5c0-1.1-.9-2-2-2zM9 17H7v-7h2v7zm4 0h-2V7h2v10zm4 0h-2v-4h2v4z\"/>\n",
              "    </g>\n",
              "</svg>\n",
              "  </button>\n",
              "\n",
              "<style>\n",
              "  .colab-df-quickchart {\n",
              "      --bg-color: #E8F0FE;\n",
              "      --fill-color: #1967D2;\n",
              "      --hover-bg-color: #E2EBFA;\n",
              "      --hover-fill-color: #174EA6;\n",
              "      --disabled-fill-color: #AAA;\n",
              "      --disabled-bg-color: #DDD;\n",
              "  }\n",
              "\n",
              "  [theme=dark] .colab-df-quickchart {\n",
              "      --bg-color: #3B4455;\n",
              "      --fill-color: #D2E3FC;\n",
              "      --hover-bg-color: #434B5C;\n",
              "      --hover-fill-color: #FFFFFF;\n",
              "      --disabled-bg-color: #3B4455;\n",
              "      --disabled-fill-color: #666;\n",
              "  }\n",
              "\n",
              "  .colab-df-quickchart {\n",
              "    background-color: var(--bg-color);\n",
              "    border: none;\n",
              "    border-radius: 50%;\n",
              "    cursor: pointer;\n",
              "    display: none;\n",
              "    fill: var(--fill-color);\n",
              "    height: 32px;\n",
              "    padding: 0;\n",
              "    width: 32px;\n",
              "  }\n",
              "\n",
              "  .colab-df-quickchart:hover {\n",
              "    background-color: var(--hover-bg-color);\n",
              "    box-shadow: 0 1px 2px rgba(60, 64, 67, 0.3), 0 1px 3px 1px rgba(60, 64, 67, 0.15);\n",
              "    fill: var(--button-hover-fill-color);\n",
              "  }\n",
              "\n",
              "  .colab-df-quickchart-complete:disabled,\n",
              "  .colab-df-quickchart-complete:disabled:hover {\n",
              "    background-color: var(--disabled-bg-color);\n",
              "    fill: var(--disabled-fill-color);\n",
              "    box-shadow: none;\n",
              "  }\n",
              "\n",
              "  .colab-df-spinner {\n",
              "    border: 2px solid var(--fill-color);\n",
              "    border-color: transparent;\n",
              "    border-bottom-color: var(--fill-color);\n",
              "    animation:\n",
              "      spin 1s steps(1) infinite;\n",
              "  }\n",
              "\n",
              "  @keyframes spin {\n",
              "    0% {\n",
              "      border-color: transparent;\n",
              "      border-bottom-color: var(--fill-color);\n",
              "      border-left-color: var(--fill-color);\n",
              "    }\n",
              "    20% {\n",
              "      border-color: transparent;\n",
              "      border-left-color: var(--fill-color);\n",
              "      border-top-color: var(--fill-color);\n",
              "    }\n",
              "    30% {\n",
              "      border-color: transparent;\n",
              "      border-left-color: var(--fill-color);\n",
              "      border-top-color: var(--fill-color);\n",
              "      border-right-color: var(--fill-color);\n",
              "    }\n",
              "    40% {\n",
              "      border-color: transparent;\n",
              "      border-right-color: var(--fill-color);\n",
              "      border-top-color: var(--fill-color);\n",
              "    }\n",
              "    60% {\n",
              "      border-color: transparent;\n",
              "      border-right-color: var(--fill-color);\n",
              "    }\n",
              "    80% {\n",
              "      border-color: transparent;\n",
              "      border-right-color: var(--fill-color);\n",
              "      border-bottom-color: var(--fill-color);\n",
              "    }\n",
              "    90% {\n",
              "      border-color: transparent;\n",
              "      border-bottom-color: var(--fill-color);\n",
              "    }\n",
              "  }\n",
              "</style>\n",
              "\n",
              "  <script>\n",
              "    async function quickchart(key) {\n",
              "      const quickchartButtonEl =\n",
              "        document.querySelector('#' + key + ' button');\n",
              "      quickchartButtonEl.disabled = true;  // To prevent multiple clicks.\n",
              "      quickchartButtonEl.classList.add('colab-df-spinner');\n",
              "      try {\n",
              "        const charts = await google.colab.kernel.invokeFunction(\n",
              "            'suggestCharts', [key], {});\n",
              "      } catch (error) {\n",
              "        console.error('Error during call to suggestCharts:', error);\n",
              "      }\n",
              "      quickchartButtonEl.classList.remove('colab-df-spinner');\n",
              "      quickchartButtonEl.classList.add('colab-df-quickchart-complete');\n",
              "    }\n",
              "    (() => {\n",
              "      let quickchartButtonEl =\n",
              "        document.querySelector('#df-31e9846d-1fc4-4854-9c7c-5f4d054a7c25 button');\n",
              "      quickchartButtonEl.style.display =\n",
              "        google.colab.kernel.accessAllowed ? 'block' : 'none';\n",
              "    })();\n",
              "  </script>\n",
              "</div>\n",
              "    </div>\n",
              "  </div>\n"
            ],
            "application/vnd.google.colaboratory.intrinsic+json": {
              "type": "dataframe",
              "summary": "{\n  \"name\": \"df_user_data[df_user_data['rating_5']\",\n  \"rows\": 2,\n  \"fields\": [\n    {\n      \"column\": \"user_id\",\n      \"properties\": {\n        \"dtype\": \"string\",\n        \"num_unique_values\": 2,\n        \"samples\": [\n          \"a5ac0c0a728259db23e16e8e143e3325\",\n          \"bafc2d50014200cda7cb2b6acd60cd73\"\n        ],\n        \"semantic_type\": \"\",\n        \"description\": \"\"\n      }\n    },\n    {\n      \"column\": \"read\",\n      \"properties\": {\n        \"dtype\": \"string\",\n        \"num_unique_values\": 2,\n        \"samples\": [\n          \"[26247019 25667060 24464154 24464123   451932  1949778  1311025  1311028\\n  1311026   780770   780768  6018955 12111331 26050510 17832364 15853242\\n 13531564 12977207 12349659 11513752 11426435 11426433 10820886  8730915\\n  8444997  6130353  5097514  2793265  2402674  1952950  1118746   954304\\n   605151   885751 15994262 23492399 22609106 22609109 21412479 18774918\\n 10552292 10552284  6599652  9696114  6296507  9696113  7334967  6057815\\n  6652674  7334198  6941176  8315979  6664559  6338429  6338437  2354165\\n  2489098  2489097  2314946  2400167  7276834  7276829  7276811  7276777\\n  7276757  7276752  6406946  7708259  6019082  2946919  8433044  9516501\\n  9516248  6007094  6006825  5950118  5948578  5948569  5948554  5948534\\n  5948529 12450035 12450034  8093112  8092353  6298669  2352936 11977944\\n   267219  5071434   717201  7775819   660649  6337896    30233  3307079\\n  5975773  2352937  5948514  1382251 11029842  2309720  5322135  1383672\\n  8110748   259583  3294622  6801573  6558209   500463    25816  8230409\\n  1098336  9876989   263145 13517686  6612005   780769   282425    62309\\n   873414   954303  1881621  6081685  1157452    30204    16012  6236809\\n   229145   330744    98413   228063   856917   667985  6419566    13570\\n   282282  1087204]\",\n          \"[31301849 30272307   137894 31672148 31258181 30810333 30287874   464437\\n  6315584 11476305 17137616 29847729  2387801 26778322  9041662 13084667\\n 11702228  9785203 25266691 18430203 23137382  2637138 23460350 22322957\\n  6375845 15816406  1402686 22716171 22951859 20897852 19539095 18129488\\n 16102049 16164271 13490570  9674335  7202841  6120349  3217221    59980\\n  6282082 18223736 18454118 16281102   102953    95406    95431   472331\\n    96358  3134981    22374 15726505  6478775   300678    59966   419104\\n    59978   419103    59969   392297 15790920  2239435  6929516 13094398\\n  7620623  6867952 13526176  3054218   163377 13638518 10573014 10639234\\n 12021955 13549765 14290231    23754 11647621 10403191  2459214  2090317\\n  7631099  3430804  7348633   273790 13630859 13405766 12670891  2020452\\n  2410057  3430882  3430886  1377917  1595702  1377919  1377918 12133131\\n  3268080 12826825  9605832    43808  6664559  2139406  1098336    25816\\n   660649   257153  3430649  2410061  8433044   660650  4161072  1594220\\n   257152   257154  1433826  6690979]\"\n        ],\n        \"semantic_type\": \"\",\n        \"description\": \"\"\n      }\n    },\n    {\n      \"column\": \"shelved\",\n      \"properties\": {\n        \"dtype\": \"string\",\n        \"num_unique_values\": 2,\n        \"samples\": [\n          \"[  954242   954243   954244   954240   954245   954241   954247   954246\\n   954248   728042   728047  8265087  2322325  8403277  8403310  6114951\\n  7042066  7041143  7041114 17309952 13614554 13614547 13614542 13614533\\n 13614524 16181114 16181109 12096145 13277252 13076215  6019383 14059301\\n  6739078  6341278 16074903 17315524 15762914 13609806 13050138 12365795\\n 12017979 11414571 10858443 10356635 10473294 15724121 13250899 15857741\\n 16139758 13456239  9805386  9245108  9244949  7244837  7244839  6407300\\n  6407304  6407303  6019613 11105980  9686728  8533479 25255796 29985707\\n 23290387 18691799 18216600 18042516 19049793  7326861  6797427 18002231\\n   775083  8105139 21412003 13573494 13573497  8687366    30308    30316\\n    30314  1274860    30315  4161072  3430882  3430886  2410061  2410057\\n  2139406 21420935 20801116 18300726 17665515 16087956 13615425 13489280\\n 13489278 13489269 10561686 10561652  8321382  7397033  7232432  6028413\\n  4621739  3301126  2353138 27406782 27406783 25814003 25813989 25110930\\n 23705528 23705530    13551    13550    13549   969468  1819676  1373743\\n   777471   936920  1819674  1373732  1373742  1373736    19126 29213451\\n 13485495  6146059 21406667 13406391 13630859 12133131    30231   660650\\n 11860098 10745875  6533434 10745872 18145169 13631955 13267474 13267456\\n 11875645  4863705  2120733  1949780  9727043  9727038  8337608  7554754\\n   434235 17287629  6341851  6342002  6342005  6341901  6341565  6337922\\n  6235920 10170920  5995290  4285584  6698338  5995288 15803878 15800534\\n  7650233 12637108  9482387  6046598  6046599  3577320  3577321  3577319\\n  2706103  2706101  2021894  2021859  2021857  2021844  2021843  2021842\\n  2021841  2021840  2021858  7278475  7278448  7278439  7278413  7278403\\n 16154585 16154574 14760974 13446828 10908487 10611711  9803043  9803042\\n  8450597  7674628 13176697 10494791  6260558  7326831  6797474  6419634\\n  6303498  6303499  4616177  3430760 21935309  3430692  1630363  6145304\\n  1999907  8042956 17238004 16153651 13529688 12508851 11517637 10879668\\n  6552582  6397993  6338424  9685940 10879564  7889803  7269165  7145361\\n  7201626  7269284  7144690 16146214 16146215 15803907 15800522]\",\n          \"[18430804 18738869 15704307  6954438   389519    21326 18867493 21532236\\n 22553536   133765    22416  8045163  7921923  7663586  7759872  9625608\\n  7972098   273788  8315979]\"\n        ],\n        \"semantic_type\": \"\",\n        \"description\": \"\"\n      }\n    },\n    {\n      \"column\": \"rating_0\",\n      \"properties\": {\n        \"dtype\": \"string\",\n        \"num_unique_values\": 2,\n        \"samples\": [\n          \"[26247019 25667060 24464154 24464123]\",\n          \"[11476305 17137616  9041662  1098336]\"\n        ],\n        \"semantic_type\": \"\",\n        \"description\": \"\"\n      }\n    },\n    {\n      \"column\": \"rating_1\",\n      \"properties\": {\n        \"dtype\": \"string\",\n        \"num_unique_values\": 1,\n        \"samples\": [\n          \"[]\"\n        ],\n        \"semantic_type\": \"\",\n        \"description\": \"\"\n      }\n    },\n    {\n      \"column\": \"rating_2\",\n      \"properties\": {\n        \"dtype\": \"string\",\n        \"num_unique_values\": 1,\n        \"samples\": [\n          \"[]\"\n        ],\n        \"semantic_type\": \"\",\n        \"description\": \"\"\n      }\n    },\n    {\n      \"column\": \"rating_3\",\n      \"properties\": {\n        \"dtype\": \"string\",\n        \"num_unique_values\": 2,\n        \"samples\": [\n          \"[8315979 6664559  717201 1382251  500463  282425   98413]\"\n        ],\n        \"semantic_type\": \"\",\n        \"description\": \"\"\n      }\n    },\n    {\n      \"column\": \"rating_4\",\n      \"properties\": {\n        \"dtype\": \"string\",\n        \"num_unique_values\": 2,\n        \"samples\": [\n          \"[12111331 26050510  9696114  6296507  9696113  7334967  6057815  6652674\\n  7334198  6941176  6338429  6338437  2354165  2489098  2489097  2314946\\n  7276834  7276829  7276811  7276777  7276757  7276752  6406946  5322135\\n  9876989 13517686  6081685   282282]\"\n        ],\n        \"semantic_type\": \"\",\n        \"description\": \"\"\n      }\n    },\n    {\n      \"column\": \"rating_5\",\n      \"properties\": {\n        \"dtype\": \"string\",\n        \"num_unique_values\": 2,\n        \"samples\": [\n          \"[  451932  1949778  1311025  1311028  1311026   780770   780768  6018955\\n 17832364 15853242 13531564 12977207 12349659 11513752 11426435 11426433\\n 10820886  8730915  8444997  6130353  5097514  2793265  2402674  1952950\\n  1118746   954304   605151   885751 15994262 23492399 22609106 22609109\\n 21412479 18774918 10552292 10552284  6599652  2400167  7708259  6019082\\n  2946919  8433044  9516501  9516248  6007094  6006825  5950118  5948578\\n  5948569  5948554  5948534  5948529 12450035 12450034  8093112  8092353\\n  6298669  2352936 11977944   267219  5071434  7775819   660649  6337896\\n    30233  3307079  5975773  2352937  5948514 11029842  2309720  1383672\\n  8110748   259583  3294622  6801573  6558209    25816  8230409  1098336\\n   263145  6612005   780769    62309   873414   954303  1881621  1157452\\n    30204    16012  6236809   229145   330744   228063   856917   667985\\n  6419566    13570  1087204]\"\n        ],\n        \"semantic_type\": \"\",\n        \"description\": \"\"\n      }\n    }\n  ]\n}"
            }
          },
          "metadata": {},
          "execution_count": 44
        }
      ]
    },
    {
      "cell_type": "code",
      "source": [
        "df_user_data[df_user_data['rating_5'].str.len() > 400].info()"
      ],
      "metadata": {
        "colab": {
          "base_uri": "https://localhost:8080/"
        },
        "id": "76L63FJ7YKG_",
        "outputId": "253bd6a3-ca48-4101-ed4d-8df399a7bf17"
      },
      "execution_count": null,
      "outputs": [
        {
          "output_type": "stream",
          "name": "stdout",
          "text": [
            "<class 'pandas.core.frame.DataFrame'>\n",
            "Index: 2998 entries, 8842281e1d1347389f2ab93d60773d4d to 4912f4527840a57bd2ce58abb17a24c1\n",
            "Data columns (total 8 columns):\n",
            " #   Column    Non-Null Count  Dtype \n",
            "---  ------    --------------  ----- \n",
            " 0   read      2998 non-null   object\n",
            " 1   shelved   2998 non-null   object\n",
            " 2   rating_0  2998 non-null   object\n",
            " 3   rating_1  2998 non-null   object\n",
            " 4   rating_2  2998 non-null   object\n",
            " 5   rating_3  2998 non-null   object\n",
            " 6   rating_4  2998 non-null   object\n",
            " 7   rating_5  2998 non-null   object\n",
            "dtypes: object(8)\n",
            "memory usage: 210.8+ KB\n"
          ]
        }
      ]
    },
    {
      "cell_type": "markdown",
      "source": [
        "Пример запуска тестирования:"
      ],
      "metadata": {
        "id": "KVOEniebVYDf"
      }
    },
    {
      "cell_type": "code",
      "source": [
        "model_p2v = Pref2Vec(depth=500)\n",
        "model_p2v.load_corpus(filepath_or_buffer='/content/drive/MyDrive/ВКР/children/children_corpus_pref2vec.csv')\n",
        "\n",
        "evaluator = Evaluator(model_p2v=model_p2v, test_percent=20)\n",
        "evaluator.test(\n",
        "    users_data=df_user_data[df_user_data['rating_5'].str.len() > 400].iloc[:200],\n",
        "    k=10,\n",
        "    filepath_or_buffer='/content/drive/MyDrive/ВКР/children/children_testing_depth_500_percent_20_k_10_1.csv'\n",
        ")"
      ],
      "metadata": {
        "id": "5wl5nWqRViTx"
      },
      "execution_count": null,
      "outputs": []
    },
    {
      "cell_type": "markdown",
      "source": [
        "## 4) Собственно тестирование"
      ],
      "metadata": {
        "id": "gJuNZPi7S7eT"
      }
    },
    {
      "cell_type": "markdown",
      "source": [
        "Было произведено тестирование модели Pref2Vec на наборах данных «Children» и «Comics & Graphic». Приведём результаты тестирования на данных «Children»:"
      ],
      "metadata": {
        "id": "eq8_AblDW8Nu"
      }
    },
    {
      "cell_type": "code",
      "source": [
        "df_children_test = pd.read_csv(\n",
        "    filepath_or_buffer='/content/drive/MyDrive/ВКР/children/children_test.csv',\n",
        "    index_col='user_id'\n",
        ")"
      ],
      "metadata": {
        "id": "oXAGxqyZS6zx"
      },
      "execution_count": null,
      "outputs": []
    },
    {
      "cell_type": "code",
      "source": [
        "dict_recall = {\n",
        "    'name':  ['BPRMF', 'BPRMF', 'BPRMF',\n",
        "              'GRU4Rec', 'GRU4Rec', 'GRU4Rec',\n",
        "              'GRU4Rec+', 'GRU4Rec+', 'GRU4Rec+',\n",
        "              'NextItNet', 'NextItNet', 'NextItNet',\n",
        "              'Caser', 'Caser', 'Caser',\n",
        "              'SASRec', 'SASRec', 'SASRec',\n",
        "              'HGN', 'HGN', 'HGN',\n",
        "              'Pref2Vec', 'Pref2Vec', 'Pref2Vec'],\n",
        "    'k':     [10, 15, 20,\n",
        "              10, 15, 20,\n",
        "              10, 15, 20,\n",
        "              10, 15, 20,\n",
        "              10, 15, 20,\n",
        "              10, 15, 20,\n",
        "              10, 15, 20,\n",
        "              10, 15, 20],\n",
        "    'value': [0.082, 0.108, 0.131,\n",
        "              0.086, 0.113, 0.137,\n",
        "              0.095, 0.122, 0.142,\n",
        "              0.088, 0.115, 0.140,\n",
        "              0.105, 0.141, 0.164,\n",
        "              0.120, 0.159, 0.172,\n",
        "              0.133, 0.170, 0.183,\n",
        "              df_children_test['recall@10'].mean(),\n",
        "              df_children_test['recall@15'].mean(),\n",
        "              df_children_test['recall@20'].mean()]\n",
        "}\n",
        "df_recall = pd.DataFrame(dict_recall)\n",
        "\n",
        "fig = px.bar(df_recall, x=\"k\", y=\"value\", color='name', barmode='group',\n",
        "             labels={'value': 'Recall@k', 'name': 'Модели:'})\n",
        "fig.show()"
      ],
      "metadata": {
        "colab": {
          "base_uri": "https://localhost:8080/",
          "height": 542
        },
        "id": "gQyqQqqcsx3H",
        "outputId": "126faa71-9490-4eea-af14-2efcc3fcc3b2"
      },
      "execution_count": null,
      "outputs": [
        {
          "output_type": "display_data",
          "data": {
            "text/html": [
              "<html>\n",
              "<head><meta charset=\"utf-8\" /></head>\n",
              "<body>\n",
              "    <div>            <script src=\"https://cdnjs.cloudflare.com/ajax/libs/mathjax/2.7.5/MathJax.js?config=TeX-AMS-MML_SVG\"></script><script type=\"text/javascript\">if (window.MathJax && window.MathJax.Hub && window.MathJax.Hub.Config) {window.MathJax.Hub.Config({SVG: {font: \"STIX-Web\"}});}</script>                <script type=\"text/javascript\">window.PlotlyConfig = {MathJaxConfig: 'local'};</script>\n",
              "        <script charset=\"utf-8\" src=\"https://cdn.plot.ly/plotly-2.24.1.min.js\"></script>                <div id=\"93272e00-b6fd-44b8-96a1-90ee2b934acd\" class=\"plotly-graph-div\" style=\"height:525px; width:100%;\"></div>            <script type=\"text/javascript\">                                    window.PLOTLYENV=window.PLOTLYENV || {};                                    if (document.getElementById(\"93272e00-b6fd-44b8-96a1-90ee2b934acd\")) {                    Plotly.newPlot(                        \"93272e00-b6fd-44b8-96a1-90ee2b934acd\",                        [{\"alignmentgroup\":\"True\",\"hovertemplate\":\"\\u041c\\u043e\\u0434\\u0435\\u043b\\u0438:=BPRMF\\u003cbr\\u003ek=%{x}\\u003cbr\\u003eRecall@k=%{y}\\u003cextra\\u003e\\u003c\\u002fextra\\u003e\",\"legendgroup\":\"BPRMF\",\"marker\":{\"color\":\"#636efa\",\"pattern\":{\"shape\":\"\"}},\"name\":\"BPRMF\",\"offsetgroup\":\"BPRMF\",\"orientation\":\"v\",\"showlegend\":true,\"textposition\":\"auto\",\"x\":[10,15,20],\"xaxis\":\"x\",\"y\":[0.082,0.108,0.131],\"yaxis\":\"y\",\"type\":\"bar\"},{\"alignmentgroup\":\"True\",\"hovertemplate\":\"\\u041c\\u043e\\u0434\\u0435\\u043b\\u0438:=GRU4Rec\\u003cbr\\u003ek=%{x}\\u003cbr\\u003eRecall@k=%{y}\\u003cextra\\u003e\\u003c\\u002fextra\\u003e\",\"legendgroup\":\"GRU4Rec\",\"marker\":{\"color\":\"#EF553B\",\"pattern\":{\"shape\":\"\"}},\"name\":\"GRU4Rec\",\"offsetgroup\":\"GRU4Rec\",\"orientation\":\"v\",\"showlegend\":true,\"textposition\":\"auto\",\"x\":[10,15,20],\"xaxis\":\"x\",\"y\":[0.086,0.113,0.137],\"yaxis\":\"y\",\"type\":\"bar\"},{\"alignmentgroup\":\"True\",\"hovertemplate\":\"\\u041c\\u043e\\u0434\\u0435\\u043b\\u0438:=GRU4Rec+\\u003cbr\\u003ek=%{x}\\u003cbr\\u003eRecall@k=%{y}\\u003cextra\\u003e\\u003c\\u002fextra\\u003e\",\"legendgroup\":\"GRU4Rec+\",\"marker\":{\"color\":\"#00cc96\",\"pattern\":{\"shape\":\"\"}},\"name\":\"GRU4Rec+\",\"offsetgroup\":\"GRU4Rec+\",\"orientation\":\"v\",\"showlegend\":true,\"textposition\":\"auto\",\"x\":[10,15,20],\"xaxis\":\"x\",\"y\":[0.095,0.122,0.142],\"yaxis\":\"y\",\"type\":\"bar\"},{\"alignmentgroup\":\"True\",\"hovertemplate\":\"\\u041c\\u043e\\u0434\\u0435\\u043b\\u0438:=NextItNet\\u003cbr\\u003ek=%{x}\\u003cbr\\u003eRecall@k=%{y}\\u003cextra\\u003e\\u003c\\u002fextra\\u003e\",\"legendgroup\":\"NextItNet\",\"marker\":{\"color\":\"#ab63fa\",\"pattern\":{\"shape\":\"\"}},\"name\":\"NextItNet\",\"offsetgroup\":\"NextItNet\",\"orientation\":\"v\",\"showlegend\":true,\"textposition\":\"auto\",\"x\":[10,15,20],\"xaxis\":\"x\",\"y\":[0.088,0.115,0.14],\"yaxis\":\"y\",\"type\":\"bar\"},{\"alignmentgroup\":\"True\",\"hovertemplate\":\"\\u041c\\u043e\\u0434\\u0435\\u043b\\u0438:=Caser\\u003cbr\\u003ek=%{x}\\u003cbr\\u003eRecall@k=%{y}\\u003cextra\\u003e\\u003c\\u002fextra\\u003e\",\"legendgroup\":\"Caser\",\"marker\":{\"color\":\"#FFA15A\",\"pattern\":{\"shape\":\"\"}},\"name\":\"Caser\",\"offsetgroup\":\"Caser\",\"orientation\":\"v\",\"showlegend\":true,\"textposition\":\"auto\",\"x\":[10,15,20],\"xaxis\":\"x\",\"y\":[0.105,0.141,0.164],\"yaxis\":\"y\",\"type\":\"bar\"},{\"alignmentgroup\":\"True\",\"hovertemplate\":\"\\u041c\\u043e\\u0434\\u0435\\u043b\\u0438:=SASRec\\u003cbr\\u003ek=%{x}\\u003cbr\\u003eRecall@k=%{y}\\u003cextra\\u003e\\u003c\\u002fextra\\u003e\",\"legendgroup\":\"SASRec\",\"marker\":{\"color\":\"#19d3f3\",\"pattern\":{\"shape\":\"\"}},\"name\":\"SASRec\",\"offsetgroup\":\"SASRec\",\"orientation\":\"v\",\"showlegend\":true,\"textposition\":\"auto\",\"x\":[10,15,20],\"xaxis\":\"x\",\"y\":[0.12,0.159,0.172],\"yaxis\":\"y\",\"type\":\"bar\"},{\"alignmentgroup\":\"True\",\"hovertemplate\":\"\\u041c\\u043e\\u0434\\u0435\\u043b\\u0438:=HGN\\u003cbr\\u003ek=%{x}\\u003cbr\\u003eRecall@k=%{y}\\u003cextra\\u003e\\u003c\\u002fextra\\u003e\",\"legendgroup\":\"HGN\",\"marker\":{\"color\":\"#FF6692\",\"pattern\":{\"shape\":\"\"}},\"name\":\"HGN\",\"offsetgroup\":\"HGN\",\"orientation\":\"v\",\"showlegend\":true,\"textposition\":\"auto\",\"x\":[10,15,20],\"xaxis\":\"x\",\"y\":[0.133,0.17,0.183],\"yaxis\":\"y\",\"type\":\"bar\"},{\"alignmentgroup\":\"True\",\"hovertemplate\":\"\\u041c\\u043e\\u0434\\u0435\\u043b\\u0438:=Pref2Vec\\u003cbr\\u003ek=%{x}\\u003cbr\\u003eRecall@k=%{y}\\u003cextra\\u003e\\u003c\\u002fextra\\u003e\",\"legendgroup\":\"Pref2Vec\",\"marker\":{\"color\":\"#B6E880\",\"pattern\":{\"shape\":\"\"}},\"name\":\"Pref2Vec\",\"offsetgroup\":\"Pref2Vec\",\"orientation\":\"v\",\"showlegend\":true,\"textposition\":\"auto\",\"x\":[10,15,20],\"xaxis\":\"x\",\"y\":[0.0904,0.1056,0.1585],\"yaxis\":\"y\",\"type\":\"bar\"}],                        {\"template\":{\"data\":{\"histogram2dcontour\":[{\"type\":\"histogram2dcontour\",\"colorbar\":{\"outlinewidth\":0,\"ticks\":\"\"},\"colorscale\":[[0.0,\"#0d0887\"],[0.1111111111111111,\"#46039f\"],[0.2222222222222222,\"#7201a8\"],[0.3333333333333333,\"#9c179e\"],[0.4444444444444444,\"#bd3786\"],[0.5555555555555556,\"#d8576b\"],[0.6666666666666666,\"#ed7953\"],[0.7777777777777778,\"#fb9f3a\"],[0.8888888888888888,\"#fdca26\"],[1.0,\"#f0f921\"]]}],\"choropleth\":[{\"type\":\"choropleth\",\"colorbar\":{\"outlinewidth\":0,\"ticks\":\"\"}}],\"histogram2d\":[{\"type\":\"histogram2d\",\"colorbar\":{\"outlinewidth\":0,\"ticks\":\"\"},\"colorscale\":[[0.0,\"#0d0887\"],[0.1111111111111111,\"#46039f\"],[0.2222222222222222,\"#7201a8\"],[0.3333333333333333,\"#9c179e\"],[0.4444444444444444,\"#bd3786\"],[0.5555555555555556,\"#d8576b\"],[0.6666666666666666,\"#ed7953\"],[0.7777777777777778,\"#fb9f3a\"],[0.8888888888888888,\"#fdca26\"],[1.0,\"#f0f921\"]]}],\"heatmap\":[{\"type\":\"heatmap\",\"colorbar\":{\"outlinewidth\":0,\"ticks\":\"\"},\"colorscale\":[[0.0,\"#0d0887\"],[0.1111111111111111,\"#46039f\"],[0.2222222222222222,\"#7201a8\"],[0.3333333333333333,\"#9c179e\"],[0.4444444444444444,\"#bd3786\"],[0.5555555555555556,\"#d8576b\"],[0.6666666666666666,\"#ed7953\"],[0.7777777777777778,\"#fb9f3a\"],[0.8888888888888888,\"#fdca26\"],[1.0,\"#f0f921\"]]}],\"heatmapgl\":[{\"type\":\"heatmapgl\",\"colorbar\":{\"outlinewidth\":0,\"ticks\":\"\"},\"colorscale\":[[0.0,\"#0d0887\"],[0.1111111111111111,\"#46039f\"],[0.2222222222222222,\"#7201a8\"],[0.3333333333333333,\"#9c179e\"],[0.4444444444444444,\"#bd3786\"],[0.5555555555555556,\"#d8576b\"],[0.6666666666666666,\"#ed7953\"],[0.7777777777777778,\"#fb9f3a\"],[0.8888888888888888,\"#fdca26\"],[1.0,\"#f0f921\"]]}],\"contourcarpet\":[{\"type\":\"contourcarpet\",\"colorbar\":{\"outlinewidth\":0,\"ticks\":\"\"}}],\"contour\":[{\"type\":\"contour\",\"colorbar\":{\"outlinewidth\":0,\"ticks\":\"\"},\"colorscale\":[[0.0,\"#0d0887\"],[0.1111111111111111,\"#46039f\"],[0.2222222222222222,\"#7201a8\"],[0.3333333333333333,\"#9c179e\"],[0.4444444444444444,\"#bd3786\"],[0.5555555555555556,\"#d8576b\"],[0.6666666666666666,\"#ed7953\"],[0.7777777777777778,\"#fb9f3a\"],[0.8888888888888888,\"#fdca26\"],[1.0,\"#f0f921\"]]}],\"surface\":[{\"type\":\"surface\",\"colorbar\":{\"outlinewidth\":0,\"ticks\":\"\"},\"colorscale\":[[0.0,\"#0d0887\"],[0.1111111111111111,\"#46039f\"],[0.2222222222222222,\"#7201a8\"],[0.3333333333333333,\"#9c179e\"],[0.4444444444444444,\"#bd3786\"],[0.5555555555555556,\"#d8576b\"],[0.6666666666666666,\"#ed7953\"],[0.7777777777777778,\"#fb9f3a\"],[0.8888888888888888,\"#fdca26\"],[1.0,\"#f0f921\"]]}],\"mesh3d\":[{\"type\":\"mesh3d\",\"colorbar\":{\"outlinewidth\":0,\"ticks\":\"\"}}],\"scatter\":[{\"fillpattern\":{\"fillmode\":\"overlay\",\"size\":10,\"solidity\":0.2},\"type\":\"scatter\"}],\"parcoords\":[{\"type\":\"parcoords\",\"line\":{\"colorbar\":{\"outlinewidth\":0,\"ticks\":\"\"}}}],\"scatterpolargl\":[{\"type\":\"scatterpolargl\",\"marker\":{\"colorbar\":{\"outlinewidth\":0,\"ticks\":\"\"}}}],\"bar\":[{\"error_x\":{\"color\":\"#2a3f5f\"},\"error_y\":{\"color\":\"#2a3f5f\"},\"marker\":{\"line\":{\"color\":\"#E5ECF6\",\"width\":0.5},\"pattern\":{\"fillmode\":\"overlay\",\"size\":10,\"solidity\":0.2}},\"type\":\"bar\"}],\"scattergeo\":[{\"type\":\"scattergeo\",\"marker\":{\"colorbar\":{\"outlinewidth\":0,\"ticks\":\"\"}}}],\"scatterpolar\":[{\"type\":\"scatterpolar\",\"marker\":{\"colorbar\":{\"outlinewidth\":0,\"ticks\":\"\"}}}],\"histogram\":[{\"marker\":{\"pattern\":{\"fillmode\":\"overlay\",\"size\":10,\"solidity\":0.2}},\"type\":\"histogram\"}],\"scattergl\":[{\"type\":\"scattergl\",\"marker\":{\"colorbar\":{\"outlinewidth\":0,\"ticks\":\"\"}}}],\"scatter3d\":[{\"type\":\"scatter3d\",\"line\":{\"colorbar\":{\"outlinewidth\":0,\"ticks\":\"\"}},\"marker\":{\"colorbar\":{\"outlinewidth\":0,\"ticks\":\"\"}}}],\"scattermapbox\":[{\"type\":\"scattermapbox\",\"marker\":{\"colorbar\":{\"outlinewidth\":0,\"ticks\":\"\"}}}],\"scatterternary\":[{\"type\":\"scatterternary\",\"marker\":{\"colorbar\":{\"outlinewidth\":0,\"ticks\":\"\"}}}],\"scattercarpet\":[{\"type\":\"scattercarpet\",\"marker\":{\"colorbar\":{\"outlinewidth\":0,\"ticks\":\"\"}}}],\"carpet\":[{\"aaxis\":{\"endlinecolor\":\"#2a3f5f\",\"gridcolor\":\"white\",\"linecolor\":\"white\",\"minorgridcolor\":\"white\",\"startlinecolor\":\"#2a3f5f\"},\"baxis\":{\"endlinecolor\":\"#2a3f5f\",\"gridcolor\":\"white\",\"linecolor\":\"white\",\"minorgridcolor\":\"white\",\"startlinecolor\":\"#2a3f5f\"},\"type\":\"carpet\"}],\"table\":[{\"cells\":{\"fill\":{\"color\":\"#EBF0F8\"},\"line\":{\"color\":\"white\"}},\"header\":{\"fill\":{\"color\":\"#C8D4E3\"},\"line\":{\"color\":\"white\"}},\"type\":\"table\"}],\"barpolar\":[{\"marker\":{\"line\":{\"color\":\"#E5ECF6\",\"width\":0.5},\"pattern\":{\"fillmode\":\"overlay\",\"size\":10,\"solidity\":0.2}},\"type\":\"barpolar\"}],\"pie\":[{\"automargin\":true,\"type\":\"pie\"}]},\"layout\":{\"autotypenumbers\":\"strict\",\"colorway\":[\"#636efa\",\"#EF553B\",\"#00cc96\",\"#ab63fa\",\"#FFA15A\",\"#19d3f3\",\"#FF6692\",\"#B6E880\",\"#FF97FF\",\"#FECB52\"],\"font\":{\"color\":\"#2a3f5f\"},\"hovermode\":\"closest\",\"hoverlabel\":{\"align\":\"left\"},\"paper_bgcolor\":\"white\",\"plot_bgcolor\":\"#E5ECF6\",\"polar\":{\"bgcolor\":\"#E5ECF6\",\"angularaxis\":{\"gridcolor\":\"white\",\"linecolor\":\"white\",\"ticks\":\"\"},\"radialaxis\":{\"gridcolor\":\"white\",\"linecolor\":\"white\",\"ticks\":\"\"}},\"ternary\":{\"bgcolor\":\"#E5ECF6\",\"aaxis\":{\"gridcolor\":\"white\",\"linecolor\":\"white\",\"ticks\":\"\"},\"baxis\":{\"gridcolor\":\"white\",\"linecolor\":\"white\",\"ticks\":\"\"},\"caxis\":{\"gridcolor\":\"white\",\"linecolor\":\"white\",\"ticks\":\"\"}},\"coloraxis\":{\"colorbar\":{\"outlinewidth\":0,\"ticks\":\"\"}},\"colorscale\":{\"sequential\":[[0.0,\"#0d0887\"],[0.1111111111111111,\"#46039f\"],[0.2222222222222222,\"#7201a8\"],[0.3333333333333333,\"#9c179e\"],[0.4444444444444444,\"#bd3786\"],[0.5555555555555556,\"#d8576b\"],[0.6666666666666666,\"#ed7953\"],[0.7777777777777778,\"#fb9f3a\"],[0.8888888888888888,\"#fdca26\"],[1.0,\"#f0f921\"]],\"sequentialminus\":[[0.0,\"#0d0887\"],[0.1111111111111111,\"#46039f\"],[0.2222222222222222,\"#7201a8\"],[0.3333333333333333,\"#9c179e\"],[0.4444444444444444,\"#bd3786\"],[0.5555555555555556,\"#d8576b\"],[0.6666666666666666,\"#ed7953\"],[0.7777777777777778,\"#fb9f3a\"],[0.8888888888888888,\"#fdca26\"],[1.0,\"#f0f921\"]],\"diverging\":[[0,\"#8e0152\"],[0.1,\"#c51b7d\"],[0.2,\"#de77ae\"],[0.3,\"#f1b6da\"],[0.4,\"#fde0ef\"],[0.5,\"#f7f7f7\"],[0.6,\"#e6f5d0\"],[0.7,\"#b8e186\"],[0.8,\"#7fbc41\"],[0.9,\"#4d9221\"],[1,\"#276419\"]]},\"xaxis\":{\"gridcolor\":\"white\",\"linecolor\":\"white\",\"ticks\":\"\",\"title\":{\"standoff\":15},\"zerolinecolor\":\"white\",\"automargin\":true,\"zerolinewidth\":2},\"yaxis\":{\"gridcolor\":\"white\",\"linecolor\":\"white\",\"ticks\":\"\",\"title\":{\"standoff\":15},\"zerolinecolor\":\"white\",\"automargin\":true,\"zerolinewidth\":2},\"scene\":{\"xaxis\":{\"backgroundcolor\":\"#E5ECF6\",\"gridcolor\":\"white\",\"linecolor\":\"white\",\"showbackground\":true,\"ticks\":\"\",\"zerolinecolor\":\"white\",\"gridwidth\":2},\"yaxis\":{\"backgroundcolor\":\"#E5ECF6\",\"gridcolor\":\"white\",\"linecolor\":\"white\",\"showbackground\":true,\"ticks\":\"\",\"zerolinecolor\":\"white\",\"gridwidth\":2},\"zaxis\":{\"backgroundcolor\":\"#E5ECF6\",\"gridcolor\":\"white\",\"linecolor\":\"white\",\"showbackground\":true,\"ticks\":\"\",\"zerolinecolor\":\"white\",\"gridwidth\":2}},\"shapedefaults\":{\"line\":{\"color\":\"#2a3f5f\"}},\"annotationdefaults\":{\"arrowcolor\":\"#2a3f5f\",\"arrowhead\":0,\"arrowwidth\":1},\"geo\":{\"bgcolor\":\"white\",\"landcolor\":\"#E5ECF6\",\"subunitcolor\":\"white\",\"showland\":true,\"showlakes\":true,\"lakecolor\":\"white\"},\"title\":{\"x\":0.05},\"mapbox\":{\"style\":\"light\"}}},\"xaxis\":{\"anchor\":\"y\",\"domain\":[0.0,1.0],\"title\":{\"text\":\"k\"}},\"yaxis\":{\"anchor\":\"x\",\"domain\":[0.0,1.0],\"title\":{\"text\":\"Recall@k\"}},\"legend\":{\"title\":{\"text\":\"\\u041c\\u043e\\u0434\\u0435\\u043b\\u0438:\"},\"tracegroupgap\":0},\"margin\":{\"t\":60},\"barmode\":\"group\"},                        {\"responsive\": true}                    ).then(function(){\n",
              "                            \n",
              "var gd = document.getElementById('93272e00-b6fd-44b8-96a1-90ee2b934acd');\n",
              "var x = new MutationObserver(function (mutations, observer) {{\n",
              "        var display = window.getComputedStyle(gd).display;\n",
              "        if (!display || display === 'none') {{\n",
              "            console.log([gd, 'removed!']);\n",
              "            Plotly.purge(gd);\n",
              "            observer.disconnect();\n",
              "        }}\n",
              "}});\n",
              "\n",
              "// Listen for the removal of the full notebook cells\n",
              "var notebookContainer = gd.closest('#notebook-container');\n",
              "if (notebookContainer) {{\n",
              "    x.observe(notebookContainer, {childList: true});\n",
              "}}\n",
              "\n",
              "// Listen for the clearing of the current output cell\n",
              "var outputEl = gd.closest('.output');\n",
              "if (outputEl) {{\n",
              "    x.observe(outputEl, {childList: true});\n",
              "}}\n",
              "\n",
              "                        })                };                            </script>        </div>\n",
              "</body>\n",
              "</html>"
            ]
          },
          "metadata": {}
        }
      ]
    },
    {
      "cell_type": "code",
      "source": [
        "dict_ndcg = {\n",
        "    'name':  ['BPRMF', 'BPRMF', 'BPRMF',\n",
        "              'GRU4Rec', 'GRU4Rec', 'GRU4Rec',\n",
        "              'GRU4Rec+', 'GRU4Rec+', 'GRU4Rec+',\n",
        "              'NextItNet', 'NextItNet', 'NextItNet',\n",
        "              'Caser', 'Caser', 'Caser',\n",
        "              'SASRec', 'SASRec', 'SASRec',\n",
        "              'HGN', 'HGN', 'HGN',\n",
        "              'Pref2Vec', 'Pref2Vec', 'Pref2Vec'],\n",
        "    'k':     [10, 15, 20,\n",
        "              10, 15, 20,\n",
        "              10, 15, 20,\n",
        "              10, 15, 20,\n",
        "              10, 15, 20,\n",
        "              10, 15, 20,\n",
        "              10, 15, 20,\n",
        "              10, 15, 20],\n",
        "    'value': [0.065, 0.058, 0.042,\n",
        "              0.072, 0.064, 0.050,\n",
        "              0.084, 0.078, 0.061,\n",
        "              0.073, 0.063, 0.052,\n",
        "              0.096, 0.084, 0.078,\n",
        "              0.102, 0.090, 0.085,\n",
        "              0.115, 0.103, 0.096,\n",
        "              df_children_test['ndcg@10'].mean(),\n",
        "              df_children_test['ndcg@15'].mean(),\n",
        "              df_children_test['ndcg@20'].mean()]\n",
        "}\n",
        "df_ndcg = pd.DataFrame(dict_ndcg)\n",
        "\n",
        "fig = px.bar(df_ndcg, x=\"k\", y=\"value\", color='name', barmode='group',\n",
        "             labels={'value': 'NDCG@k', 'name': 'Модели:'})\n",
        "fig.show()"
      ],
      "metadata": {
        "colab": {
          "base_uri": "https://localhost:8080/",
          "height": 542
        },
        "id": "ChBo6hHIsx1G",
        "outputId": "cc48e9e9-b835-4b3c-8002-d2ef495d541a"
      },
      "execution_count": null,
      "outputs": [
        {
          "output_type": "display_data",
          "data": {
            "text/html": [
              "<html>\n",
              "<head><meta charset=\"utf-8\" /></head>\n",
              "<body>\n",
              "    <div>            <script src=\"https://cdnjs.cloudflare.com/ajax/libs/mathjax/2.7.5/MathJax.js?config=TeX-AMS-MML_SVG\"></script><script type=\"text/javascript\">if (window.MathJax && window.MathJax.Hub && window.MathJax.Hub.Config) {window.MathJax.Hub.Config({SVG: {font: \"STIX-Web\"}});}</script>                <script type=\"text/javascript\">window.PlotlyConfig = {MathJaxConfig: 'local'};</script>\n",
              "        <script charset=\"utf-8\" src=\"https://cdn.plot.ly/plotly-2.24.1.min.js\"></script>                <div id=\"c6713d5c-082d-4c6d-b23e-3087b66bcea3\" class=\"plotly-graph-div\" style=\"height:525px; width:100%;\"></div>            <script type=\"text/javascript\">                                    window.PLOTLYENV=window.PLOTLYENV || {};                                    if (document.getElementById(\"c6713d5c-082d-4c6d-b23e-3087b66bcea3\")) {                    Plotly.newPlot(                        \"c6713d5c-082d-4c6d-b23e-3087b66bcea3\",                        [{\"alignmentgroup\":\"True\",\"hovertemplate\":\"\\u041c\\u043e\\u0434\\u0435\\u043b\\u0438:=BPRMF\\u003cbr\\u003ek=%{x}\\u003cbr\\u003eNDCG@k=%{y}\\u003cextra\\u003e\\u003c\\u002fextra\\u003e\",\"legendgroup\":\"BPRMF\",\"marker\":{\"color\":\"#636efa\",\"pattern\":{\"shape\":\"\"}},\"name\":\"BPRMF\",\"offsetgroup\":\"BPRMF\",\"orientation\":\"v\",\"showlegend\":true,\"textposition\":\"auto\",\"x\":[10,15,20],\"xaxis\":\"x\",\"y\":[0.065,0.058,0.042],\"yaxis\":\"y\",\"type\":\"bar\"},{\"alignmentgroup\":\"True\",\"hovertemplate\":\"\\u041c\\u043e\\u0434\\u0435\\u043b\\u0438:=GRU4Rec\\u003cbr\\u003ek=%{x}\\u003cbr\\u003eNDCG@k=%{y}\\u003cextra\\u003e\\u003c\\u002fextra\\u003e\",\"legendgroup\":\"GRU4Rec\",\"marker\":{\"color\":\"#EF553B\",\"pattern\":{\"shape\":\"\"}},\"name\":\"GRU4Rec\",\"offsetgroup\":\"GRU4Rec\",\"orientation\":\"v\",\"showlegend\":true,\"textposition\":\"auto\",\"x\":[10,15,20],\"xaxis\":\"x\",\"y\":[0.072,0.064,0.05],\"yaxis\":\"y\",\"type\":\"bar\"},{\"alignmentgroup\":\"True\",\"hovertemplate\":\"\\u041c\\u043e\\u0434\\u0435\\u043b\\u0438:=GRU4Rec+\\u003cbr\\u003ek=%{x}\\u003cbr\\u003eNDCG@k=%{y}\\u003cextra\\u003e\\u003c\\u002fextra\\u003e\",\"legendgroup\":\"GRU4Rec+\",\"marker\":{\"color\":\"#00cc96\",\"pattern\":{\"shape\":\"\"}},\"name\":\"GRU4Rec+\",\"offsetgroup\":\"GRU4Rec+\",\"orientation\":\"v\",\"showlegend\":true,\"textposition\":\"auto\",\"x\":[10,15,20],\"xaxis\":\"x\",\"y\":[0.084,0.078,0.061],\"yaxis\":\"y\",\"type\":\"bar\"},{\"alignmentgroup\":\"True\",\"hovertemplate\":\"\\u041c\\u043e\\u0434\\u0435\\u043b\\u0438:=NextItNet\\u003cbr\\u003ek=%{x}\\u003cbr\\u003eNDCG@k=%{y}\\u003cextra\\u003e\\u003c\\u002fextra\\u003e\",\"legendgroup\":\"NextItNet\",\"marker\":{\"color\":\"#ab63fa\",\"pattern\":{\"shape\":\"\"}},\"name\":\"NextItNet\",\"offsetgroup\":\"NextItNet\",\"orientation\":\"v\",\"showlegend\":true,\"textposition\":\"auto\",\"x\":[10,15,20],\"xaxis\":\"x\",\"y\":[0.073,0.063,0.052],\"yaxis\":\"y\",\"type\":\"bar\"},{\"alignmentgroup\":\"True\",\"hovertemplate\":\"\\u041c\\u043e\\u0434\\u0435\\u043b\\u0438:=Caser\\u003cbr\\u003ek=%{x}\\u003cbr\\u003eNDCG@k=%{y}\\u003cextra\\u003e\\u003c\\u002fextra\\u003e\",\"legendgroup\":\"Caser\",\"marker\":{\"color\":\"#FFA15A\",\"pattern\":{\"shape\":\"\"}},\"name\":\"Caser\",\"offsetgroup\":\"Caser\",\"orientation\":\"v\",\"showlegend\":true,\"textposition\":\"auto\",\"x\":[10,15,20],\"xaxis\":\"x\",\"y\":[0.096,0.084,0.078],\"yaxis\":\"y\",\"type\":\"bar\"},{\"alignmentgroup\":\"True\",\"hovertemplate\":\"\\u041c\\u043e\\u0434\\u0435\\u043b\\u0438:=SASRec\\u003cbr\\u003ek=%{x}\\u003cbr\\u003eNDCG@k=%{y}\\u003cextra\\u003e\\u003c\\u002fextra\\u003e\",\"legendgroup\":\"SASRec\",\"marker\":{\"color\":\"#19d3f3\",\"pattern\":{\"shape\":\"\"}},\"name\":\"SASRec\",\"offsetgroup\":\"SASRec\",\"orientation\":\"v\",\"showlegend\":true,\"textposition\":\"auto\",\"x\":[10,15,20],\"xaxis\":\"x\",\"y\":[0.102,0.09,0.085],\"yaxis\":\"y\",\"type\":\"bar\"},{\"alignmentgroup\":\"True\",\"hovertemplate\":\"\\u041c\\u043e\\u0434\\u0435\\u043b\\u0438:=HGN\\u003cbr\\u003ek=%{x}\\u003cbr\\u003eNDCG@k=%{y}\\u003cextra\\u003e\\u003c\\u002fextra\\u003e\",\"legendgroup\":\"HGN\",\"marker\":{\"color\":\"#FF6692\",\"pattern\":{\"shape\":\"\"}},\"name\":\"HGN\",\"offsetgroup\":\"HGN\",\"orientation\":\"v\",\"showlegend\":true,\"textposition\":\"auto\",\"x\":[10,15,20],\"xaxis\":\"x\",\"y\":[0.115,0.103,0.096],\"yaxis\":\"y\",\"type\":\"bar\"},{\"alignmentgroup\":\"True\",\"hovertemplate\":\"\\u041c\\u043e\\u0434\\u0435\\u043b\\u0438:=Pref2Vec\\u003cbr\\u003ek=%{x}\\u003cbr\\u003eNDCG@k=%{y}\\u003cextra\\u003e\\u003c\\u002fextra\\u003e\",\"legendgroup\":\"Pref2Vec\",\"marker\":{\"color\":\"#B6E880\",\"pattern\":{\"shape\":\"\"}},\"name\":\"Pref2Vec\",\"offsetgroup\":\"Pref2Vec\",\"orientation\":\"v\",\"showlegend\":true,\"textposition\":\"auto\",\"x\":[10,15,20],\"xaxis\":\"x\",\"y\":[0.0996,0.0769,0.0628],\"yaxis\":\"y\",\"type\":\"bar\"}],                        {\"template\":{\"data\":{\"histogram2dcontour\":[{\"type\":\"histogram2dcontour\",\"colorbar\":{\"outlinewidth\":0,\"ticks\":\"\"},\"colorscale\":[[0.0,\"#0d0887\"],[0.1111111111111111,\"#46039f\"],[0.2222222222222222,\"#7201a8\"],[0.3333333333333333,\"#9c179e\"],[0.4444444444444444,\"#bd3786\"],[0.5555555555555556,\"#d8576b\"],[0.6666666666666666,\"#ed7953\"],[0.7777777777777778,\"#fb9f3a\"],[0.8888888888888888,\"#fdca26\"],[1.0,\"#f0f921\"]]}],\"choropleth\":[{\"type\":\"choropleth\",\"colorbar\":{\"outlinewidth\":0,\"ticks\":\"\"}}],\"histogram2d\":[{\"type\":\"histogram2d\",\"colorbar\":{\"outlinewidth\":0,\"ticks\":\"\"},\"colorscale\":[[0.0,\"#0d0887\"],[0.1111111111111111,\"#46039f\"],[0.2222222222222222,\"#7201a8\"],[0.3333333333333333,\"#9c179e\"],[0.4444444444444444,\"#bd3786\"],[0.5555555555555556,\"#d8576b\"],[0.6666666666666666,\"#ed7953\"],[0.7777777777777778,\"#fb9f3a\"],[0.8888888888888888,\"#fdca26\"],[1.0,\"#f0f921\"]]}],\"heatmap\":[{\"type\":\"heatmap\",\"colorbar\":{\"outlinewidth\":0,\"ticks\":\"\"},\"colorscale\":[[0.0,\"#0d0887\"],[0.1111111111111111,\"#46039f\"],[0.2222222222222222,\"#7201a8\"],[0.3333333333333333,\"#9c179e\"],[0.4444444444444444,\"#bd3786\"],[0.5555555555555556,\"#d8576b\"],[0.6666666666666666,\"#ed7953\"],[0.7777777777777778,\"#fb9f3a\"],[0.8888888888888888,\"#fdca26\"],[1.0,\"#f0f921\"]]}],\"heatmapgl\":[{\"type\":\"heatmapgl\",\"colorbar\":{\"outlinewidth\":0,\"ticks\":\"\"},\"colorscale\":[[0.0,\"#0d0887\"],[0.1111111111111111,\"#46039f\"],[0.2222222222222222,\"#7201a8\"],[0.3333333333333333,\"#9c179e\"],[0.4444444444444444,\"#bd3786\"],[0.5555555555555556,\"#d8576b\"],[0.6666666666666666,\"#ed7953\"],[0.7777777777777778,\"#fb9f3a\"],[0.8888888888888888,\"#fdca26\"],[1.0,\"#f0f921\"]]}],\"contourcarpet\":[{\"type\":\"contourcarpet\",\"colorbar\":{\"outlinewidth\":0,\"ticks\":\"\"}}],\"contour\":[{\"type\":\"contour\",\"colorbar\":{\"outlinewidth\":0,\"ticks\":\"\"},\"colorscale\":[[0.0,\"#0d0887\"],[0.1111111111111111,\"#46039f\"],[0.2222222222222222,\"#7201a8\"],[0.3333333333333333,\"#9c179e\"],[0.4444444444444444,\"#bd3786\"],[0.5555555555555556,\"#d8576b\"],[0.6666666666666666,\"#ed7953\"],[0.7777777777777778,\"#fb9f3a\"],[0.8888888888888888,\"#fdca26\"],[1.0,\"#f0f921\"]]}],\"surface\":[{\"type\":\"surface\",\"colorbar\":{\"outlinewidth\":0,\"ticks\":\"\"},\"colorscale\":[[0.0,\"#0d0887\"],[0.1111111111111111,\"#46039f\"],[0.2222222222222222,\"#7201a8\"],[0.3333333333333333,\"#9c179e\"],[0.4444444444444444,\"#bd3786\"],[0.5555555555555556,\"#d8576b\"],[0.6666666666666666,\"#ed7953\"],[0.7777777777777778,\"#fb9f3a\"],[0.8888888888888888,\"#fdca26\"],[1.0,\"#f0f921\"]]}],\"mesh3d\":[{\"type\":\"mesh3d\",\"colorbar\":{\"outlinewidth\":0,\"ticks\":\"\"}}],\"scatter\":[{\"fillpattern\":{\"fillmode\":\"overlay\",\"size\":10,\"solidity\":0.2},\"type\":\"scatter\"}],\"parcoords\":[{\"type\":\"parcoords\",\"line\":{\"colorbar\":{\"outlinewidth\":0,\"ticks\":\"\"}}}],\"scatterpolargl\":[{\"type\":\"scatterpolargl\",\"marker\":{\"colorbar\":{\"outlinewidth\":0,\"ticks\":\"\"}}}],\"bar\":[{\"error_x\":{\"color\":\"#2a3f5f\"},\"error_y\":{\"color\":\"#2a3f5f\"},\"marker\":{\"line\":{\"color\":\"#E5ECF6\",\"width\":0.5},\"pattern\":{\"fillmode\":\"overlay\",\"size\":10,\"solidity\":0.2}},\"type\":\"bar\"}],\"scattergeo\":[{\"type\":\"scattergeo\",\"marker\":{\"colorbar\":{\"outlinewidth\":0,\"ticks\":\"\"}}}],\"scatterpolar\":[{\"type\":\"scatterpolar\",\"marker\":{\"colorbar\":{\"outlinewidth\":0,\"ticks\":\"\"}}}],\"histogram\":[{\"marker\":{\"pattern\":{\"fillmode\":\"overlay\",\"size\":10,\"solidity\":0.2}},\"type\":\"histogram\"}],\"scattergl\":[{\"type\":\"scattergl\",\"marker\":{\"colorbar\":{\"outlinewidth\":0,\"ticks\":\"\"}}}],\"scatter3d\":[{\"type\":\"scatter3d\",\"line\":{\"colorbar\":{\"outlinewidth\":0,\"ticks\":\"\"}},\"marker\":{\"colorbar\":{\"outlinewidth\":0,\"ticks\":\"\"}}}],\"scattermapbox\":[{\"type\":\"scattermapbox\",\"marker\":{\"colorbar\":{\"outlinewidth\":0,\"ticks\":\"\"}}}],\"scatterternary\":[{\"type\":\"scatterternary\",\"marker\":{\"colorbar\":{\"outlinewidth\":0,\"ticks\":\"\"}}}],\"scattercarpet\":[{\"type\":\"scattercarpet\",\"marker\":{\"colorbar\":{\"outlinewidth\":0,\"ticks\":\"\"}}}],\"carpet\":[{\"aaxis\":{\"endlinecolor\":\"#2a3f5f\",\"gridcolor\":\"white\",\"linecolor\":\"white\",\"minorgridcolor\":\"white\",\"startlinecolor\":\"#2a3f5f\"},\"baxis\":{\"endlinecolor\":\"#2a3f5f\",\"gridcolor\":\"white\",\"linecolor\":\"white\",\"minorgridcolor\":\"white\",\"startlinecolor\":\"#2a3f5f\"},\"type\":\"carpet\"}],\"table\":[{\"cells\":{\"fill\":{\"color\":\"#EBF0F8\"},\"line\":{\"color\":\"white\"}},\"header\":{\"fill\":{\"color\":\"#C8D4E3\"},\"line\":{\"color\":\"white\"}},\"type\":\"table\"}],\"barpolar\":[{\"marker\":{\"line\":{\"color\":\"#E5ECF6\",\"width\":0.5},\"pattern\":{\"fillmode\":\"overlay\",\"size\":10,\"solidity\":0.2}},\"type\":\"barpolar\"}],\"pie\":[{\"automargin\":true,\"type\":\"pie\"}]},\"layout\":{\"autotypenumbers\":\"strict\",\"colorway\":[\"#636efa\",\"#EF553B\",\"#00cc96\",\"#ab63fa\",\"#FFA15A\",\"#19d3f3\",\"#FF6692\",\"#B6E880\",\"#FF97FF\",\"#FECB52\"],\"font\":{\"color\":\"#2a3f5f\"},\"hovermode\":\"closest\",\"hoverlabel\":{\"align\":\"left\"},\"paper_bgcolor\":\"white\",\"plot_bgcolor\":\"#E5ECF6\",\"polar\":{\"bgcolor\":\"#E5ECF6\",\"angularaxis\":{\"gridcolor\":\"white\",\"linecolor\":\"white\",\"ticks\":\"\"},\"radialaxis\":{\"gridcolor\":\"white\",\"linecolor\":\"white\",\"ticks\":\"\"}},\"ternary\":{\"bgcolor\":\"#E5ECF6\",\"aaxis\":{\"gridcolor\":\"white\",\"linecolor\":\"white\",\"ticks\":\"\"},\"baxis\":{\"gridcolor\":\"white\",\"linecolor\":\"white\",\"ticks\":\"\"},\"caxis\":{\"gridcolor\":\"white\",\"linecolor\":\"white\",\"ticks\":\"\"}},\"coloraxis\":{\"colorbar\":{\"outlinewidth\":0,\"ticks\":\"\"}},\"colorscale\":{\"sequential\":[[0.0,\"#0d0887\"],[0.1111111111111111,\"#46039f\"],[0.2222222222222222,\"#7201a8\"],[0.3333333333333333,\"#9c179e\"],[0.4444444444444444,\"#bd3786\"],[0.5555555555555556,\"#d8576b\"],[0.6666666666666666,\"#ed7953\"],[0.7777777777777778,\"#fb9f3a\"],[0.8888888888888888,\"#fdca26\"],[1.0,\"#f0f921\"]],\"sequentialminus\":[[0.0,\"#0d0887\"],[0.1111111111111111,\"#46039f\"],[0.2222222222222222,\"#7201a8\"],[0.3333333333333333,\"#9c179e\"],[0.4444444444444444,\"#bd3786\"],[0.5555555555555556,\"#d8576b\"],[0.6666666666666666,\"#ed7953\"],[0.7777777777777778,\"#fb9f3a\"],[0.8888888888888888,\"#fdca26\"],[1.0,\"#f0f921\"]],\"diverging\":[[0,\"#8e0152\"],[0.1,\"#c51b7d\"],[0.2,\"#de77ae\"],[0.3,\"#f1b6da\"],[0.4,\"#fde0ef\"],[0.5,\"#f7f7f7\"],[0.6,\"#e6f5d0\"],[0.7,\"#b8e186\"],[0.8,\"#7fbc41\"],[0.9,\"#4d9221\"],[1,\"#276419\"]]},\"xaxis\":{\"gridcolor\":\"white\",\"linecolor\":\"white\",\"ticks\":\"\",\"title\":{\"standoff\":15},\"zerolinecolor\":\"white\",\"automargin\":true,\"zerolinewidth\":2},\"yaxis\":{\"gridcolor\":\"white\",\"linecolor\":\"white\",\"ticks\":\"\",\"title\":{\"standoff\":15},\"zerolinecolor\":\"white\",\"automargin\":true,\"zerolinewidth\":2},\"scene\":{\"xaxis\":{\"backgroundcolor\":\"#E5ECF6\",\"gridcolor\":\"white\",\"linecolor\":\"white\",\"showbackground\":true,\"ticks\":\"\",\"zerolinecolor\":\"white\",\"gridwidth\":2},\"yaxis\":{\"backgroundcolor\":\"#E5ECF6\",\"gridcolor\":\"white\",\"linecolor\":\"white\",\"showbackground\":true,\"ticks\":\"\",\"zerolinecolor\":\"white\",\"gridwidth\":2},\"zaxis\":{\"backgroundcolor\":\"#E5ECF6\",\"gridcolor\":\"white\",\"linecolor\":\"white\",\"showbackground\":true,\"ticks\":\"\",\"zerolinecolor\":\"white\",\"gridwidth\":2}},\"shapedefaults\":{\"line\":{\"color\":\"#2a3f5f\"}},\"annotationdefaults\":{\"arrowcolor\":\"#2a3f5f\",\"arrowhead\":0,\"arrowwidth\":1},\"geo\":{\"bgcolor\":\"white\",\"landcolor\":\"#E5ECF6\",\"subunitcolor\":\"white\",\"showland\":true,\"showlakes\":true,\"lakecolor\":\"white\"},\"title\":{\"x\":0.05},\"mapbox\":{\"style\":\"light\"}}},\"xaxis\":{\"anchor\":\"y\",\"domain\":[0.0,1.0],\"title\":{\"text\":\"k\"}},\"yaxis\":{\"anchor\":\"x\",\"domain\":[0.0,1.0],\"title\":{\"text\":\"NDCG@k\"}},\"legend\":{\"title\":{\"text\":\"\\u041c\\u043e\\u0434\\u0435\\u043b\\u0438:\"},\"tracegroupgap\":0},\"margin\":{\"t\":60},\"barmode\":\"group\"},                        {\"responsive\": true}                    ).then(function(){\n",
              "                            \n",
              "var gd = document.getElementById('c6713d5c-082d-4c6d-b23e-3087b66bcea3');\n",
              "var x = new MutationObserver(function (mutations, observer) {{\n",
              "        var display = window.getComputedStyle(gd).display;\n",
              "        if (!display || display === 'none') {{\n",
              "            console.log([gd, 'removed!']);\n",
              "            Plotly.purge(gd);\n",
              "            observer.disconnect();\n",
              "        }}\n",
              "}});\n",
              "\n",
              "// Listen for the removal of the full notebook cells\n",
              "var notebookContainer = gd.closest('#notebook-container');\n",
              "if (notebookContainer) {{\n",
              "    x.observe(notebookContainer, {childList: true});\n",
              "}}\n",
              "\n",
              "// Listen for the clearing of the current output cell\n",
              "var outputEl = gd.closest('.output');\n",
              "if (outputEl) {{\n",
              "    x.observe(outputEl, {childList: true});\n",
              "}}\n",
              "\n",
              "                        })                };                            </script>        </div>\n",
              "</body>\n",
              "</html>"
            ]
          },
          "metadata": {}
        }
      ]
    },
    {
      "cell_type": "markdown",
      "source": [
        "После приведём результаты тестирования на данных «Comics & Graphic»:"
      ],
      "metadata": {
        "id": "hqHA6HpcX-jU"
      }
    },
    {
      "cell_type": "code",
      "source": [
        "df_comics_graphic_test = pd.read_csv(\n",
        "    filepath_or_buffer='/content/drive/MyDrive/ВКР/children/comics_graphic_test.csv',\n",
        "    index_col='user_id'\n",
        ")"
      ],
      "metadata": {
        "id": "TTiMpW3yYbmW"
      },
      "execution_count": null,
      "outputs": []
    },
    {
      "cell_type": "code",
      "execution_count": null,
      "metadata": {
        "id": "KjsBeAHBjtKA",
        "colab": {
          "base_uri": "https://localhost:8080/",
          "height": 542
        },
        "outputId": "a39429d3-1be4-453a-8338-eb6ac77d8d7b"
      },
      "outputs": [
        {
          "output_type": "display_data",
          "data": {
            "text/html": [
              "<html>\n",
              "<head><meta charset=\"utf-8\" /></head>\n",
              "<body>\n",
              "    <div>            <script src=\"https://cdnjs.cloudflare.com/ajax/libs/mathjax/2.7.5/MathJax.js?config=TeX-AMS-MML_SVG\"></script><script type=\"text/javascript\">if (window.MathJax && window.MathJax.Hub && window.MathJax.Hub.Config) {window.MathJax.Hub.Config({SVG: {font: \"STIX-Web\"}});}</script>                <script type=\"text/javascript\">window.PlotlyConfig = {MathJaxConfig: 'local'};</script>\n",
              "        <script charset=\"utf-8\" src=\"https://cdn.plot.ly/plotly-2.24.1.min.js\"></script>                <div id=\"e0616114-ce18-4f4c-8c05-17471214e243\" class=\"plotly-graph-div\" style=\"height:525px; width:100%;\"></div>            <script type=\"text/javascript\">                                    window.PLOTLYENV=window.PLOTLYENV || {};                                    if (document.getElementById(\"e0616114-ce18-4f4c-8c05-17471214e243\")) {                    Plotly.newPlot(                        \"e0616114-ce18-4f4c-8c05-17471214e243\",                        [{\"alignmentgroup\":\"True\",\"hovertemplate\":\"\\u041c\\u043e\\u0434\\u0435\\u043b\\u0438:=BPRMF\\u003cbr\\u003ek=%{x}\\u003cbr\\u003eRecall@k=%{y}\\u003cextra\\u003e\\u003c\\u002fextra\\u003e\",\"legendgroup\":\"BPRMF\",\"marker\":{\"color\":\"#636efa\",\"pattern\":{\"shape\":\"\"}},\"name\":\"BPRMF\",\"offsetgroup\":\"BPRMF\",\"orientation\":\"v\",\"showlegend\":true,\"textposition\":\"auto\",\"x\":[10,15,20],\"xaxis\":\"x\",\"y\":[0.072,0.1,0.12],\"yaxis\":\"y\",\"type\":\"bar\"},{\"alignmentgroup\":\"True\",\"hovertemplate\":\"\\u041c\\u043e\\u0434\\u0435\\u043b\\u0438:=GRU4Rec\\u003cbr\\u003ek=%{x}\\u003cbr\\u003eRecall@k=%{y}\\u003cextra\\u003e\\u003c\\u002fextra\\u003e\",\"legendgroup\":\"GRU4Rec\",\"marker\":{\"color\":\"#EF553B\",\"pattern\":{\"shape\":\"\"}},\"name\":\"GRU4Rec\",\"offsetgroup\":\"GRU4Rec\",\"orientation\":\"v\",\"showlegend\":true,\"textposition\":\"auto\",\"x\":[10,15,20],\"xaxis\":\"x\",\"y\":[0.095,0.13,0.149],\"yaxis\":\"y\",\"type\":\"bar\"},{\"alignmentgroup\":\"True\",\"hovertemplate\":\"\\u041c\\u043e\\u0434\\u0435\\u043b\\u0438:=GRU4Rec+\\u003cbr\\u003ek=%{x}\\u003cbr\\u003eRecall@k=%{y}\\u003cextra\\u003e\\u003c\\u002fextra\\u003e\",\"legendgroup\":\"GRU4Rec+\",\"marker\":{\"color\":\"#00cc96\",\"pattern\":{\"shape\":\"\"}},\"name\":\"GRU4Rec+\",\"offsetgroup\":\"GRU4Rec+\",\"orientation\":\"v\",\"showlegend\":true,\"textposition\":\"auto\",\"x\":[10,15,20],\"xaxis\":\"x\",\"y\":[0.13,0.155,0.164],\"yaxis\":\"y\",\"type\":\"bar\"},{\"alignmentgroup\":\"True\",\"hovertemplate\":\"\\u041c\\u043e\\u0434\\u0435\\u043b\\u0438:=NextItNet\\u003cbr\\u003ek=%{x}\\u003cbr\\u003eRecall@k=%{y}\\u003cextra\\u003e\\u003c\\u002fextra\\u003e\",\"legendgroup\":\"NextItNet\",\"marker\":{\"color\":\"#ab63fa\",\"pattern\":{\"shape\":\"\"}},\"name\":\"NextItNet\",\"offsetgroup\":\"NextItNet\",\"orientation\":\"v\",\"showlegend\":true,\"textposition\":\"auto\",\"x\":[10,15,20],\"xaxis\":\"x\",\"y\":[0.11,0.143,0.157],\"yaxis\":\"y\",\"type\":\"bar\"},{\"alignmentgroup\":\"True\",\"hovertemplate\":\"\\u041c\\u043e\\u0434\\u0435\\u043b\\u0438:=Caser\\u003cbr\\u003ek=%{x}\\u003cbr\\u003eRecall@k=%{y}\\u003cextra\\u003e\\u003c\\u002fextra\\u003e\",\"legendgroup\":\"Caser\",\"marker\":{\"color\":\"#FFA15A\",\"pattern\":{\"shape\":\"\"}},\"name\":\"Caser\",\"offsetgroup\":\"Caser\",\"orientation\":\"v\",\"showlegend\":true,\"textposition\":\"auto\",\"x\":[10,15,20],\"xaxis\":\"x\",\"y\":[0.148,0.167,0.191],\"yaxis\":\"y\",\"type\":\"bar\"},{\"alignmentgroup\":\"True\",\"hovertemplate\":\"\\u041c\\u043e\\u0434\\u0435\\u043b\\u0438:=SASRec\\u003cbr\\u003ek=%{x}\\u003cbr\\u003eRecall@k=%{y}\\u003cextra\\u003e\\u003c\\u002fextra\\u003e\",\"legendgroup\":\"SASRec\",\"marker\":{\"color\":\"#19d3f3\",\"pattern\":{\"shape\":\"\"}},\"name\":\"SASRec\",\"offsetgroup\":\"SASRec\",\"orientation\":\"v\",\"showlegend\":true,\"textposition\":\"auto\",\"x\":[10,15,20],\"xaxis\":\"x\",\"y\":[0.15,0.172,0.205],\"yaxis\":\"y\",\"type\":\"bar\"},{\"alignmentgroup\":\"True\",\"hovertemplate\":\"\\u041c\\u043e\\u0434\\u0435\\u043b\\u0438:=HGN\\u003cbr\\u003ek=%{x}\\u003cbr\\u003eRecall@k=%{y}\\u003cextra\\u003e\\u003c\\u002fextra\\u003e\",\"legendgroup\":\"HGN\",\"marker\":{\"color\":\"#FF6692\",\"pattern\":{\"shape\":\"\"}},\"name\":\"HGN\",\"offsetgroup\":\"HGN\",\"orientation\":\"v\",\"showlegend\":true,\"textposition\":\"auto\",\"x\":[10,15,20],\"xaxis\":\"x\",\"y\":[0.172,0.205,0.216],\"yaxis\":\"y\",\"type\":\"bar\"},{\"alignmentgroup\":\"True\",\"hovertemplate\":\"\\u041c\\u043e\\u0434\\u0435\\u043b\\u0438:=Pref2Vec\\u003cbr\\u003ek=%{x}\\u003cbr\\u003eRecall@k=%{y}\\u003cextra\\u003e\\u003c\\u002fextra\\u003e\",\"legendgroup\":\"Pref2Vec\",\"marker\":{\"color\":\"#B6E880\",\"pattern\":{\"shape\":\"\"}},\"name\":\"Pref2Vec\",\"offsetgroup\":\"Pref2Vec\",\"orientation\":\"v\",\"showlegend\":true,\"textposition\":\"auto\",\"x\":[10,15,20],\"xaxis\":\"x\",\"y\":[0.054,0.103,0.162],\"yaxis\":\"y\",\"type\":\"bar\"}],                        {\"template\":{\"data\":{\"histogram2dcontour\":[{\"type\":\"histogram2dcontour\",\"colorbar\":{\"outlinewidth\":0,\"ticks\":\"\"},\"colorscale\":[[0.0,\"#0d0887\"],[0.1111111111111111,\"#46039f\"],[0.2222222222222222,\"#7201a8\"],[0.3333333333333333,\"#9c179e\"],[0.4444444444444444,\"#bd3786\"],[0.5555555555555556,\"#d8576b\"],[0.6666666666666666,\"#ed7953\"],[0.7777777777777778,\"#fb9f3a\"],[0.8888888888888888,\"#fdca26\"],[1.0,\"#f0f921\"]]}],\"choropleth\":[{\"type\":\"choropleth\",\"colorbar\":{\"outlinewidth\":0,\"ticks\":\"\"}}],\"histogram2d\":[{\"type\":\"histogram2d\",\"colorbar\":{\"outlinewidth\":0,\"ticks\":\"\"},\"colorscale\":[[0.0,\"#0d0887\"],[0.1111111111111111,\"#46039f\"],[0.2222222222222222,\"#7201a8\"],[0.3333333333333333,\"#9c179e\"],[0.4444444444444444,\"#bd3786\"],[0.5555555555555556,\"#d8576b\"],[0.6666666666666666,\"#ed7953\"],[0.7777777777777778,\"#fb9f3a\"],[0.8888888888888888,\"#fdca26\"],[1.0,\"#f0f921\"]]}],\"heatmap\":[{\"type\":\"heatmap\",\"colorbar\":{\"outlinewidth\":0,\"ticks\":\"\"},\"colorscale\":[[0.0,\"#0d0887\"],[0.1111111111111111,\"#46039f\"],[0.2222222222222222,\"#7201a8\"],[0.3333333333333333,\"#9c179e\"],[0.4444444444444444,\"#bd3786\"],[0.5555555555555556,\"#d8576b\"],[0.6666666666666666,\"#ed7953\"],[0.7777777777777778,\"#fb9f3a\"],[0.8888888888888888,\"#fdca26\"],[1.0,\"#f0f921\"]]}],\"heatmapgl\":[{\"type\":\"heatmapgl\",\"colorbar\":{\"outlinewidth\":0,\"ticks\":\"\"},\"colorscale\":[[0.0,\"#0d0887\"],[0.1111111111111111,\"#46039f\"],[0.2222222222222222,\"#7201a8\"],[0.3333333333333333,\"#9c179e\"],[0.4444444444444444,\"#bd3786\"],[0.5555555555555556,\"#d8576b\"],[0.6666666666666666,\"#ed7953\"],[0.7777777777777778,\"#fb9f3a\"],[0.8888888888888888,\"#fdca26\"],[1.0,\"#f0f921\"]]}],\"contourcarpet\":[{\"type\":\"contourcarpet\",\"colorbar\":{\"outlinewidth\":0,\"ticks\":\"\"}}],\"contour\":[{\"type\":\"contour\",\"colorbar\":{\"outlinewidth\":0,\"ticks\":\"\"},\"colorscale\":[[0.0,\"#0d0887\"],[0.1111111111111111,\"#46039f\"],[0.2222222222222222,\"#7201a8\"],[0.3333333333333333,\"#9c179e\"],[0.4444444444444444,\"#bd3786\"],[0.5555555555555556,\"#d8576b\"],[0.6666666666666666,\"#ed7953\"],[0.7777777777777778,\"#fb9f3a\"],[0.8888888888888888,\"#fdca26\"],[1.0,\"#f0f921\"]]}],\"surface\":[{\"type\":\"surface\",\"colorbar\":{\"outlinewidth\":0,\"ticks\":\"\"},\"colorscale\":[[0.0,\"#0d0887\"],[0.1111111111111111,\"#46039f\"],[0.2222222222222222,\"#7201a8\"],[0.3333333333333333,\"#9c179e\"],[0.4444444444444444,\"#bd3786\"],[0.5555555555555556,\"#d8576b\"],[0.6666666666666666,\"#ed7953\"],[0.7777777777777778,\"#fb9f3a\"],[0.8888888888888888,\"#fdca26\"],[1.0,\"#f0f921\"]]}],\"mesh3d\":[{\"type\":\"mesh3d\",\"colorbar\":{\"outlinewidth\":0,\"ticks\":\"\"}}],\"scatter\":[{\"fillpattern\":{\"fillmode\":\"overlay\",\"size\":10,\"solidity\":0.2},\"type\":\"scatter\"}],\"parcoords\":[{\"type\":\"parcoords\",\"line\":{\"colorbar\":{\"outlinewidth\":0,\"ticks\":\"\"}}}],\"scatterpolargl\":[{\"type\":\"scatterpolargl\",\"marker\":{\"colorbar\":{\"outlinewidth\":0,\"ticks\":\"\"}}}],\"bar\":[{\"error_x\":{\"color\":\"#2a3f5f\"},\"error_y\":{\"color\":\"#2a3f5f\"},\"marker\":{\"line\":{\"color\":\"#E5ECF6\",\"width\":0.5},\"pattern\":{\"fillmode\":\"overlay\",\"size\":10,\"solidity\":0.2}},\"type\":\"bar\"}],\"scattergeo\":[{\"type\":\"scattergeo\",\"marker\":{\"colorbar\":{\"outlinewidth\":0,\"ticks\":\"\"}}}],\"scatterpolar\":[{\"type\":\"scatterpolar\",\"marker\":{\"colorbar\":{\"outlinewidth\":0,\"ticks\":\"\"}}}],\"histogram\":[{\"marker\":{\"pattern\":{\"fillmode\":\"overlay\",\"size\":10,\"solidity\":0.2}},\"type\":\"histogram\"}],\"scattergl\":[{\"type\":\"scattergl\",\"marker\":{\"colorbar\":{\"outlinewidth\":0,\"ticks\":\"\"}}}],\"scatter3d\":[{\"type\":\"scatter3d\",\"line\":{\"colorbar\":{\"outlinewidth\":0,\"ticks\":\"\"}},\"marker\":{\"colorbar\":{\"outlinewidth\":0,\"ticks\":\"\"}}}],\"scattermapbox\":[{\"type\":\"scattermapbox\",\"marker\":{\"colorbar\":{\"outlinewidth\":0,\"ticks\":\"\"}}}],\"scatterternary\":[{\"type\":\"scatterternary\",\"marker\":{\"colorbar\":{\"outlinewidth\":0,\"ticks\":\"\"}}}],\"scattercarpet\":[{\"type\":\"scattercarpet\",\"marker\":{\"colorbar\":{\"outlinewidth\":0,\"ticks\":\"\"}}}],\"carpet\":[{\"aaxis\":{\"endlinecolor\":\"#2a3f5f\",\"gridcolor\":\"white\",\"linecolor\":\"white\",\"minorgridcolor\":\"white\",\"startlinecolor\":\"#2a3f5f\"},\"baxis\":{\"endlinecolor\":\"#2a3f5f\",\"gridcolor\":\"white\",\"linecolor\":\"white\",\"minorgridcolor\":\"white\",\"startlinecolor\":\"#2a3f5f\"},\"type\":\"carpet\"}],\"table\":[{\"cells\":{\"fill\":{\"color\":\"#EBF0F8\"},\"line\":{\"color\":\"white\"}},\"header\":{\"fill\":{\"color\":\"#C8D4E3\"},\"line\":{\"color\":\"white\"}},\"type\":\"table\"}],\"barpolar\":[{\"marker\":{\"line\":{\"color\":\"#E5ECF6\",\"width\":0.5},\"pattern\":{\"fillmode\":\"overlay\",\"size\":10,\"solidity\":0.2}},\"type\":\"barpolar\"}],\"pie\":[{\"automargin\":true,\"type\":\"pie\"}]},\"layout\":{\"autotypenumbers\":\"strict\",\"colorway\":[\"#636efa\",\"#EF553B\",\"#00cc96\",\"#ab63fa\",\"#FFA15A\",\"#19d3f3\",\"#FF6692\",\"#B6E880\",\"#FF97FF\",\"#FECB52\"],\"font\":{\"color\":\"#2a3f5f\"},\"hovermode\":\"closest\",\"hoverlabel\":{\"align\":\"left\"},\"paper_bgcolor\":\"white\",\"plot_bgcolor\":\"#E5ECF6\",\"polar\":{\"bgcolor\":\"#E5ECF6\",\"angularaxis\":{\"gridcolor\":\"white\",\"linecolor\":\"white\",\"ticks\":\"\"},\"radialaxis\":{\"gridcolor\":\"white\",\"linecolor\":\"white\",\"ticks\":\"\"}},\"ternary\":{\"bgcolor\":\"#E5ECF6\",\"aaxis\":{\"gridcolor\":\"white\",\"linecolor\":\"white\",\"ticks\":\"\"},\"baxis\":{\"gridcolor\":\"white\",\"linecolor\":\"white\",\"ticks\":\"\"},\"caxis\":{\"gridcolor\":\"white\",\"linecolor\":\"white\",\"ticks\":\"\"}},\"coloraxis\":{\"colorbar\":{\"outlinewidth\":0,\"ticks\":\"\"}},\"colorscale\":{\"sequential\":[[0.0,\"#0d0887\"],[0.1111111111111111,\"#46039f\"],[0.2222222222222222,\"#7201a8\"],[0.3333333333333333,\"#9c179e\"],[0.4444444444444444,\"#bd3786\"],[0.5555555555555556,\"#d8576b\"],[0.6666666666666666,\"#ed7953\"],[0.7777777777777778,\"#fb9f3a\"],[0.8888888888888888,\"#fdca26\"],[1.0,\"#f0f921\"]],\"sequentialminus\":[[0.0,\"#0d0887\"],[0.1111111111111111,\"#46039f\"],[0.2222222222222222,\"#7201a8\"],[0.3333333333333333,\"#9c179e\"],[0.4444444444444444,\"#bd3786\"],[0.5555555555555556,\"#d8576b\"],[0.6666666666666666,\"#ed7953\"],[0.7777777777777778,\"#fb9f3a\"],[0.8888888888888888,\"#fdca26\"],[1.0,\"#f0f921\"]],\"diverging\":[[0,\"#8e0152\"],[0.1,\"#c51b7d\"],[0.2,\"#de77ae\"],[0.3,\"#f1b6da\"],[0.4,\"#fde0ef\"],[0.5,\"#f7f7f7\"],[0.6,\"#e6f5d0\"],[0.7,\"#b8e186\"],[0.8,\"#7fbc41\"],[0.9,\"#4d9221\"],[1,\"#276419\"]]},\"xaxis\":{\"gridcolor\":\"white\",\"linecolor\":\"white\",\"ticks\":\"\",\"title\":{\"standoff\":15},\"zerolinecolor\":\"white\",\"automargin\":true,\"zerolinewidth\":2},\"yaxis\":{\"gridcolor\":\"white\",\"linecolor\":\"white\",\"ticks\":\"\",\"title\":{\"standoff\":15},\"zerolinecolor\":\"white\",\"automargin\":true,\"zerolinewidth\":2},\"scene\":{\"xaxis\":{\"backgroundcolor\":\"#E5ECF6\",\"gridcolor\":\"white\",\"linecolor\":\"white\",\"showbackground\":true,\"ticks\":\"\",\"zerolinecolor\":\"white\",\"gridwidth\":2},\"yaxis\":{\"backgroundcolor\":\"#E5ECF6\",\"gridcolor\":\"white\",\"linecolor\":\"white\",\"showbackground\":true,\"ticks\":\"\",\"zerolinecolor\":\"white\",\"gridwidth\":2},\"zaxis\":{\"backgroundcolor\":\"#E5ECF6\",\"gridcolor\":\"white\",\"linecolor\":\"white\",\"showbackground\":true,\"ticks\":\"\",\"zerolinecolor\":\"white\",\"gridwidth\":2}},\"shapedefaults\":{\"line\":{\"color\":\"#2a3f5f\"}},\"annotationdefaults\":{\"arrowcolor\":\"#2a3f5f\",\"arrowhead\":0,\"arrowwidth\":1},\"geo\":{\"bgcolor\":\"white\",\"landcolor\":\"#E5ECF6\",\"subunitcolor\":\"white\",\"showland\":true,\"showlakes\":true,\"lakecolor\":\"white\"},\"title\":{\"x\":0.05},\"mapbox\":{\"style\":\"light\"}}},\"xaxis\":{\"anchor\":\"y\",\"domain\":[0.0,1.0],\"title\":{\"text\":\"k\"}},\"yaxis\":{\"anchor\":\"x\",\"domain\":[0.0,1.0],\"title\":{\"text\":\"Recall@k\"}},\"legend\":{\"title\":{\"text\":\"\\u041c\\u043e\\u0434\\u0435\\u043b\\u0438:\"},\"tracegroupgap\":0},\"margin\":{\"t\":60},\"barmode\":\"group\"},                        {\"responsive\": true}                    ).then(function(){\n",
              "                            \n",
              "var gd = document.getElementById('e0616114-ce18-4f4c-8c05-17471214e243');\n",
              "var x = new MutationObserver(function (mutations, observer) {{\n",
              "        var display = window.getComputedStyle(gd).display;\n",
              "        if (!display || display === 'none') {{\n",
              "            console.log([gd, 'removed!']);\n",
              "            Plotly.purge(gd);\n",
              "            observer.disconnect();\n",
              "        }}\n",
              "}});\n",
              "\n",
              "// Listen for the removal of the full notebook cells\n",
              "var notebookContainer = gd.closest('#notebook-container');\n",
              "if (notebookContainer) {{\n",
              "    x.observe(notebookContainer, {childList: true});\n",
              "}}\n",
              "\n",
              "// Listen for the clearing of the current output cell\n",
              "var outputEl = gd.closest('.output');\n",
              "if (outputEl) {{\n",
              "    x.observe(outputEl, {childList: true});\n",
              "}}\n",
              "\n",
              "                        })                };                            </script>        </div>\n",
              "</body>\n",
              "</html>"
            ]
          },
          "metadata": {}
        }
      ],
      "source": [
        "dict_recall = {\n",
        "    'name':  ['BPRMF', 'BPRMF', 'BPRMF',\n",
        "              'GRU4Rec', 'GRU4Rec', 'GRU4Rec',\n",
        "              'GRU4Rec+', 'GRU4Rec+', 'GRU4Rec+',\n",
        "              'NextItNet', 'NextItNet', 'NextItNet',\n",
        "              'Caser', 'Caser', 'Caser',\n",
        "              'SASRec', 'SASRec', 'SASRec',\n",
        "              'HGN', 'HGN', 'HGN',\n",
        "              'Pref2Vec', 'Pref2Vec', 'Pref2Vec'],\n",
        "    'k':     [10, 15, 20,\n",
        "              10, 15, 20,\n",
        "              10, 15, 20,\n",
        "              10, 15, 20,\n",
        "              10, 15, 20,\n",
        "              10, 15, 20,\n",
        "              10, 15, 20,\n",
        "              10, 15, 20],\n",
        "    'value': [0.072, 0.1,   0.12,\n",
        "              0.095,  0.13, 0.149,\n",
        "              0.13,  0.155, 0.164,\n",
        "              0.11,  0.143, 0.157,\n",
        "              0.148, 0.167, 0.191,\n",
        "              0.15,  0.172, 0.205,\n",
        "              0.172, 0.205, 0.216,\n",
        "              df_comics_graphic_test['recall@10'].mean(),\n",
        "              df_comics_graphic_test['recall@15'].mean(),\n",
        "              df_comics_graphic_test['recall@20'].mean()]\n",
        "}\n",
        "df_recall = pd.DataFrame(dict_recall)\n",
        "\n",
        "fig = px.bar(df_recall, x=\"k\", y=\"value\", color='name', barmode='group',\n",
        "             labels={'value': 'Recall@k', 'name': 'Модели:'})\n",
        "fig.show()"
      ]
    },
    {
      "cell_type": "code",
      "execution_count": null,
      "metadata": {
        "id": "gm9ZYc1TjtEO",
        "colab": {
          "base_uri": "https://localhost:8080/",
          "height": 542
        },
        "outputId": "944b9942-599b-4c66-8632-bb8e36886b85"
      },
      "outputs": [
        {
          "output_type": "display_data",
          "data": {
            "text/html": [
              "<html>\n",
              "<head><meta charset=\"utf-8\" /></head>\n",
              "<body>\n",
              "    <div>            <script src=\"https://cdnjs.cloudflare.com/ajax/libs/mathjax/2.7.5/MathJax.js?config=TeX-AMS-MML_SVG\"></script><script type=\"text/javascript\">if (window.MathJax && window.MathJax.Hub && window.MathJax.Hub.Config) {window.MathJax.Hub.Config({SVG: {font: \"STIX-Web\"}});}</script>                <script type=\"text/javascript\">window.PlotlyConfig = {MathJaxConfig: 'local'};</script>\n",
              "        <script charset=\"utf-8\" src=\"https://cdn.plot.ly/plotly-2.24.1.min.js\"></script>                <div id=\"eba98ab9-4b0e-4ac5-ab19-9399212be012\" class=\"plotly-graph-div\" style=\"height:525px; width:100%;\"></div>            <script type=\"text/javascript\">                                    window.PLOTLYENV=window.PLOTLYENV || {};                                    if (document.getElementById(\"eba98ab9-4b0e-4ac5-ab19-9399212be012\")) {                    Plotly.newPlot(                        \"eba98ab9-4b0e-4ac5-ab19-9399212be012\",                        [{\"alignmentgroup\":\"True\",\"hovertemplate\":\"\\u041c\\u043e\\u0434\\u0435\\u043b\\u0438:=BPRMF\\u003cbr\\u003ek=%{x}\\u003cbr\\u003eNDCG@k=%{y}\\u003cextra\\u003e\\u003c\\u002fextra\\u003e\",\"legendgroup\":\"BPRMF\",\"marker\":{\"color\":\"#636efa\",\"pattern\":{\"shape\":\"\"}},\"name\":\"BPRMF\",\"offsetgroup\":\"BPRMF\",\"orientation\":\"v\",\"showlegend\":true,\"textposition\":\"auto\",\"x\":[10,15,20],\"xaxis\":\"x\",\"y\":[0.065,0.06,0.055],\"yaxis\":\"y\",\"type\":\"bar\"},{\"alignmentgroup\":\"True\",\"hovertemplate\":\"\\u041c\\u043e\\u0434\\u0435\\u043b\\u0438:=GRU4Rec\\u003cbr\\u003ek=%{x}\\u003cbr\\u003eNDCG@k=%{y}\\u003cextra\\u003e\\u003c\\u002fextra\\u003e\",\"legendgroup\":\"GRU4Rec\",\"marker\":{\"color\":\"#EF553B\",\"pattern\":{\"shape\":\"\"}},\"name\":\"GRU4Rec\",\"offsetgroup\":\"GRU4Rec\",\"orientation\":\"v\",\"showlegend\":true,\"textposition\":\"auto\",\"x\":[10,15,20],\"xaxis\":\"x\",\"y\":[0.084,0.064,0.058],\"yaxis\":\"y\",\"type\":\"bar\"},{\"alignmentgroup\":\"True\",\"hovertemplate\":\"\\u041c\\u043e\\u0434\\u0435\\u043b\\u0438:=GRU4Rec+\\u003cbr\\u003ek=%{x}\\u003cbr\\u003eNDCG@k=%{y}\\u003cextra\\u003e\\u003c\\u002fextra\\u003e\",\"legendgroup\":\"GRU4Rec+\",\"marker\":{\"color\":\"#00cc96\",\"pattern\":{\"shape\":\"\"}},\"name\":\"GRU4Rec+\",\"offsetgroup\":\"GRU4Rec+\",\"orientation\":\"v\",\"showlegend\":true,\"textposition\":\"auto\",\"x\":[10,15,20],\"xaxis\":\"x\",\"y\":[0.125,0.107,0.08],\"yaxis\":\"y\",\"type\":\"bar\"},{\"alignmentgroup\":\"True\",\"hovertemplate\":\"\\u041c\\u043e\\u0434\\u0435\\u043b\\u0438:=NextItNet\\u003cbr\\u003ek=%{x}\\u003cbr\\u003eNDCG@k=%{y}\\u003cextra\\u003e\\u003c\\u002fextra\\u003e\",\"legendgroup\":\"NextItNet\",\"marker\":{\"color\":\"#ab63fa\",\"pattern\":{\"shape\":\"\"}},\"name\":\"NextItNet\",\"offsetgroup\":\"NextItNet\",\"orientation\":\"v\",\"showlegend\":true,\"textposition\":\"auto\",\"x\":[10,15,20],\"xaxis\":\"x\",\"y\":[0.116,0.07,0.061],\"yaxis\":\"y\",\"type\":\"bar\"},{\"alignmentgroup\":\"True\",\"hovertemplate\":\"\\u041c\\u043e\\u0434\\u0435\\u043b\\u0438:=Caser\\u003cbr\\u003ek=%{x}\\u003cbr\\u003eNDCG@k=%{y}\\u003cextra\\u003e\\u003c\\u002fextra\\u003e\",\"legendgroup\":\"Caser\",\"marker\":{\"color\":\"#FFA15A\",\"pattern\":{\"shape\":\"\"}},\"name\":\"Caser\",\"offsetgroup\":\"Caser\",\"orientation\":\"v\",\"showlegend\":true,\"textposition\":\"auto\",\"x\":[10,15,20],\"xaxis\":\"x\",\"y\":[0.157,0.14,0.12],\"yaxis\":\"y\",\"type\":\"bar\"},{\"alignmentgroup\":\"True\",\"hovertemplate\":\"\\u041c\\u043e\\u0434\\u0435\\u043b\\u0438:=SASRec\\u003cbr\\u003ek=%{x}\\u003cbr\\u003eNDCG@k=%{y}\\u003cextra\\u003e\\u003c\\u002fextra\\u003e\",\"legendgroup\":\"SASRec\",\"marker\":{\"color\":\"#19d3f3\",\"pattern\":{\"shape\":\"\"}},\"name\":\"SASRec\",\"offsetgroup\":\"SASRec\",\"orientation\":\"v\",\"showlegend\":true,\"textposition\":\"auto\",\"x\":[10,15,20],\"xaxis\":\"x\",\"y\":[0.15,0.136,0.119],\"yaxis\":\"y\",\"type\":\"bar\"},{\"alignmentgroup\":\"True\",\"hovertemplate\":\"\\u041c\\u043e\\u0434\\u0435\\u043b\\u0438:=HGN\\u003cbr\\u003ek=%{x}\\u003cbr\\u003eNDCG@k=%{y}\\u003cextra\\u003e\\u003c\\u002fextra\\u003e\",\"legendgroup\":\"HGN\",\"marker\":{\"color\":\"#FF6692\",\"pattern\":{\"shape\":\"\"}},\"name\":\"HGN\",\"offsetgroup\":\"HGN\",\"orientation\":\"v\",\"showlegend\":true,\"textposition\":\"auto\",\"x\":[10,15,20],\"xaxis\":\"x\",\"y\":[0.194,0.16,0.145],\"yaxis\":\"y\",\"type\":\"bar\"},{\"alignmentgroup\":\"True\",\"hovertemplate\":\"\\u041c\\u043e\\u0434\\u0435\\u043b\\u0438:=Pref2Vec\\u003cbr\\u003ek=%{x}\\u003cbr\\u003eNDCG@k=%{y}\\u003cextra\\u003e\\u003c\\u002fextra\\u003e\",\"legendgroup\":\"Pref2Vec\",\"marker\":{\"color\":\"#B6E880\",\"pattern\":{\"shape\":\"\"}},\"name\":\"Pref2Vec\",\"offsetgroup\":\"Pref2Vec\",\"orientation\":\"v\",\"showlegend\":true,\"textposition\":\"auto\",\"x\":[10,15,20],\"xaxis\":\"x\",\"y\":[0.114,0.1099,0.0933],\"yaxis\":\"y\",\"type\":\"bar\"}],                        {\"template\":{\"data\":{\"histogram2dcontour\":[{\"type\":\"histogram2dcontour\",\"colorbar\":{\"outlinewidth\":0,\"ticks\":\"\"},\"colorscale\":[[0.0,\"#0d0887\"],[0.1111111111111111,\"#46039f\"],[0.2222222222222222,\"#7201a8\"],[0.3333333333333333,\"#9c179e\"],[0.4444444444444444,\"#bd3786\"],[0.5555555555555556,\"#d8576b\"],[0.6666666666666666,\"#ed7953\"],[0.7777777777777778,\"#fb9f3a\"],[0.8888888888888888,\"#fdca26\"],[1.0,\"#f0f921\"]]}],\"choropleth\":[{\"type\":\"choropleth\",\"colorbar\":{\"outlinewidth\":0,\"ticks\":\"\"}}],\"histogram2d\":[{\"type\":\"histogram2d\",\"colorbar\":{\"outlinewidth\":0,\"ticks\":\"\"},\"colorscale\":[[0.0,\"#0d0887\"],[0.1111111111111111,\"#46039f\"],[0.2222222222222222,\"#7201a8\"],[0.3333333333333333,\"#9c179e\"],[0.4444444444444444,\"#bd3786\"],[0.5555555555555556,\"#d8576b\"],[0.6666666666666666,\"#ed7953\"],[0.7777777777777778,\"#fb9f3a\"],[0.8888888888888888,\"#fdca26\"],[1.0,\"#f0f921\"]]}],\"heatmap\":[{\"type\":\"heatmap\",\"colorbar\":{\"outlinewidth\":0,\"ticks\":\"\"},\"colorscale\":[[0.0,\"#0d0887\"],[0.1111111111111111,\"#46039f\"],[0.2222222222222222,\"#7201a8\"],[0.3333333333333333,\"#9c179e\"],[0.4444444444444444,\"#bd3786\"],[0.5555555555555556,\"#d8576b\"],[0.6666666666666666,\"#ed7953\"],[0.7777777777777778,\"#fb9f3a\"],[0.8888888888888888,\"#fdca26\"],[1.0,\"#f0f921\"]]}],\"heatmapgl\":[{\"type\":\"heatmapgl\",\"colorbar\":{\"outlinewidth\":0,\"ticks\":\"\"},\"colorscale\":[[0.0,\"#0d0887\"],[0.1111111111111111,\"#46039f\"],[0.2222222222222222,\"#7201a8\"],[0.3333333333333333,\"#9c179e\"],[0.4444444444444444,\"#bd3786\"],[0.5555555555555556,\"#d8576b\"],[0.6666666666666666,\"#ed7953\"],[0.7777777777777778,\"#fb9f3a\"],[0.8888888888888888,\"#fdca26\"],[1.0,\"#f0f921\"]]}],\"contourcarpet\":[{\"type\":\"contourcarpet\",\"colorbar\":{\"outlinewidth\":0,\"ticks\":\"\"}}],\"contour\":[{\"type\":\"contour\",\"colorbar\":{\"outlinewidth\":0,\"ticks\":\"\"},\"colorscale\":[[0.0,\"#0d0887\"],[0.1111111111111111,\"#46039f\"],[0.2222222222222222,\"#7201a8\"],[0.3333333333333333,\"#9c179e\"],[0.4444444444444444,\"#bd3786\"],[0.5555555555555556,\"#d8576b\"],[0.6666666666666666,\"#ed7953\"],[0.7777777777777778,\"#fb9f3a\"],[0.8888888888888888,\"#fdca26\"],[1.0,\"#f0f921\"]]}],\"surface\":[{\"type\":\"surface\",\"colorbar\":{\"outlinewidth\":0,\"ticks\":\"\"},\"colorscale\":[[0.0,\"#0d0887\"],[0.1111111111111111,\"#46039f\"],[0.2222222222222222,\"#7201a8\"],[0.3333333333333333,\"#9c179e\"],[0.4444444444444444,\"#bd3786\"],[0.5555555555555556,\"#d8576b\"],[0.6666666666666666,\"#ed7953\"],[0.7777777777777778,\"#fb9f3a\"],[0.8888888888888888,\"#fdca26\"],[1.0,\"#f0f921\"]]}],\"mesh3d\":[{\"type\":\"mesh3d\",\"colorbar\":{\"outlinewidth\":0,\"ticks\":\"\"}}],\"scatter\":[{\"fillpattern\":{\"fillmode\":\"overlay\",\"size\":10,\"solidity\":0.2},\"type\":\"scatter\"}],\"parcoords\":[{\"type\":\"parcoords\",\"line\":{\"colorbar\":{\"outlinewidth\":0,\"ticks\":\"\"}}}],\"scatterpolargl\":[{\"type\":\"scatterpolargl\",\"marker\":{\"colorbar\":{\"outlinewidth\":0,\"ticks\":\"\"}}}],\"bar\":[{\"error_x\":{\"color\":\"#2a3f5f\"},\"error_y\":{\"color\":\"#2a3f5f\"},\"marker\":{\"line\":{\"color\":\"#E5ECF6\",\"width\":0.5},\"pattern\":{\"fillmode\":\"overlay\",\"size\":10,\"solidity\":0.2}},\"type\":\"bar\"}],\"scattergeo\":[{\"type\":\"scattergeo\",\"marker\":{\"colorbar\":{\"outlinewidth\":0,\"ticks\":\"\"}}}],\"scatterpolar\":[{\"type\":\"scatterpolar\",\"marker\":{\"colorbar\":{\"outlinewidth\":0,\"ticks\":\"\"}}}],\"histogram\":[{\"marker\":{\"pattern\":{\"fillmode\":\"overlay\",\"size\":10,\"solidity\":0.2}},\"type\":\"histogram\"}],\"scattergl\":[{\"type\":\"scattergl\",\"marker\":{\"colorbar\":{\"outlinewidth\":0,\"ticks\":\"\"}}}],\"scatter3d\":[{\"type\":\"scatter3d\",\"line\":{\"colorbar\":{\"outlinewidth\":0,\"ticks\":\"\"}},\"marker\":{\"colorbar\":{\"outlinewidth\":0,\"ticks\":\"\"}}}],\"scattermapbox\":[{\"type\":\"scattermapbox\",\"marker\":{\"colorbar\":{\"outlinewidth\":0,\"ticks\":\"\"}}}],\"scatterternary\":[{\"type\":\"scatterternary\",\"marker\":{\"colorbar\":{\"outlinewidth\":0,\"ticks\":\"\"}}}],\"scattercarpet\":[{\"type\":\"scattercarpet\",\"marker\":{\"colorbar\":{\"outlinewidth\":0,\"ticks\":\"\"}}}],\"carpet\":[{\"aaxis\":{\"endlinecolor\":\"#2a3f5f\",\"gridcolor\":\"white\",\"linecolor\":\"white\",\"minorgridcolor\":\"white\",\"startlinecolor\":\"#2a3f5f\"},\"baxis\":{\"endlinecolor\":\"#2a3f5f\",\"gridcolor\":\"white\",\"linecolor\":\"white\",\"minorgridcolor\":\"white\",\"startlinecolor\":\"#2a3f5f\"},\"type\":\"carpet\"}],\"table\":[{\"cells\":{\"fill\":{\"color\":\"#EBF0F8\"},\"line\":{\"color\":\"white\"}},\"header\":{\"fill\":{\"color\":\"#C8D4E3\"},\"line\":{\"color\":\"white\"}},\"type\":\"table\"}],\"barpolar\":[{\"marker\":{\"line\":{\"color\":\"#E5ECF6\",\"width\":0.5},\"pattern\":{\"fillmode\":\"overlay\",\"size\":10,\"solidity\":0.2}},\"type\":\"barpolar\"}],\"pie\":[{\"automargin\":true,\"type\":\"pie\"}]},\"layout\":{\"autotypenumbers\":\"strict\",\"colorway\":[\"#636efa\",\"#EF553B\",\"#00cc96\",\"#ab63fa\",\"#FFA15A\",\"#19d3f3\",\"#FF6692\",\"#B6E880\",\"#FF97FF\",\"#FECB52\"],\"font\":{\"color\":\"#2a3f5f\"},\"hovermode\":\"closest\",\"hoverlabel\":{\"align\":\"left\"},\"paper_bgcolor\":\"white\",\"plot_bgcolor\":\"#E5ECF6\",\"polar\":{\"bgcolor\":\"#E5ECF6\",\"angularaxis\":{\"gridcolor\":\"white\",\"linecolor\":\"white\",\"ticks\":\"\"},\"radialaxis\":{\"gridcolor\":\"white\",\"linecolor\":\"white\",\"ticks\":\"\"}},\"ternary\":{\"bgcolor\":\"#E5ECF6\",\"aaxis\":{\"gridcolor\":\"white\",\"linecolor\":\"white\",\"ticks\":\"\"},\"baxis\":{\"gridcolor\":\"white\",\"linecolor\":\"white\",\"ticks\":\"\"},\"caxis\":{\"gridcolor\":\"white\",\"linecolor\":\"white\",\"ticks\":\"\"}},\"coloraxis\":{\"colorbar\":{\"outlinewidth\":0,\"ticks\":\"\"}},\"colorscale\":{\"sequential\":[[0.0,\"#0d0887\"],[0.1111111111111111,\"#46039f\"],[0.2222222222222222,\"#7201a8\"],[0.3333333333333333,\"#9c179e\"],[0.4444444444444444,\"#bd3786\"],[0.5555555555555556,\"#d8576b\"],[0.6666666666666666,\"#ed7953\"],[0.7777777777777778,\"#fb9f3a\"],[0.8888888888888888,\"#fdca26\"],[1.0,\"#f0f921\"]],\"sequentialminus\":[[0.0,\"#0d0887\"],[0.1111111111111111,\"#46039f\"],[0.2222222222222222,\"#7201a8\"],[0.3333333333333333,\"#9c179e\"],[0.4444444444444444,\"#bd3786\"],[0.5555555555555556,\"#d8576b\"],[0.6666666666666666,\"#ed7953\"],[0.7777777777777778,\"#fb9f3a\"],[0.8888888888888888,\"#fdca26\"],[1.0,\"#f0f921\"]],\"diverging\":[[0,\"#8e0152\"],[0.1,\"#c51b7d\"],[0.2,\"#de77ae\"],[0.3,\"#f1b6da\"],[0.4,\"#fde0ef\"],[0.5,\"#f7f7f7\"],[0.6,\"#e6f5d0\"],[0.7,\"#b8e186\"],[0.8,\"#7fbc41\"],[0.9,\"#4d9221\"],[1,\"#276419\"]]},\"xaxis\":{\"gridcolor\":\"white\",\"linecolor\":\"white\",\"ticks\":\"\",\"title\":{\"standoff\":15},\"zerolinecolor\":\"white\",\"automargin\":true,\"zerolinewidth\":2},\"yaxis\":{\"gridcolor\":\"white\",\"linecolor\":\"white\",\"ticks\":\"\",\"title\":{\"standoff\":15},\"zerolinecolor\":\"white\",\"automargin\":true,\"zerolinewidth\":2},\"scene\":{\"xaxis\":{\"backgroundcolor\":\"#E5ECF6\",\"gridcolor\":\"white\",\"linecolor\":\"white\",\"showbackground\":true,\"ticks\":\"\",\"zerolinecolor\":\"white\",\"gridwidth\":2},\"yaxis\":{\"backgroundcolor\":\"#E5ECF6\",\"gridcolor\":\"white\",\"linecolor\":\"white\",\"showbackground\":true,\"ticks\":\"\",\"zerolinecolor\":\"white\",\"gridwidth\":2},\"zaxis\":{\"backgroundcolor\":\"#E5ECF6\",\"gridcolor\":\"white\",\"linecolor\":\"white\",\"showbackground\":true,\"ticks\":\"\",\"zerolinecolor\":\"white\",\"gridwidth\":2}},\"shapedefaults\":{\"line\":{\"color\":\"#2a3f5f\"}},\"annotationdefaults\":{\"arrowcolor\":\"#2a3f5f\",\"arrowhead\":0,\"arrowwidth\":1},\"geo\":{\"bgcolor\":\"white\",\"landcolor\":\"#E5ECF6\",\"subunitcolor\":\"white\",\"showland\":true,\"showlakes\":true,\"lakecolor\":\"white\"},\"title\":{\"x\":0.05},\"mapbox\":{\"style\":\"light\"}}},\"xaxis\":{\"anchor\":\"y\",\"domain\":[0.0,1.0],\"title\":{\"text\":\"k\"}},\"yaxis\":{\"anchor\":\"x\",\"domain\":[0.0,1.0],\"title\":{\"text\":\"NDCG@k\"}},\"legend\":{\"title\":{\"text\":\"\\u041c\\u043e\\u0434\\u0435\\u043b\\u0438:\"},\"tracegroupgap\":0},\"margin\":{\"t\":60},\"barmode\":\"group\"},                        {\"responsive\": true}                    ).then(function(){\n",
              "                            \n",
              "var gd = document.getElementById('eba98ab9-4b0e-4ac5-ab19-9399212be012');\n",
              "var x = new MutationObserver(function (mutations, observer) {{\n",
              "        var display = window.getComputedStyle(gd).display;\n",
              "        if (!display || display === 'none') {{\n",
              "            console.log([gd, 'removed!']);\n",
              "            Plotly.purge(gd);\n",
              "            observer.disconnect();\n",
              "        }}\n",
              "}});\n",
              "\n",
              "// Listen for the removal of the full notebook cells\n",
              "var notebookContainer = gd.closest('#notebook-container');\n",
              "if (notebookContainer) {{\n",
              "    x.observe(notebookContainer, {childList: true});\n",
              "}}\n",
              "\n",
              "// Listen for the clearing of the current output cell\n",
              "var outputEl = gd.closest('.output');\n",
              "if (outputEl) {{\n",
              "    x.observe(outputEl, {childList: true});\n",
              "}}\n",
              "\n",
              "                        })                };                            </script>        </div>\n",
              "</body>\n",
              "</html>"
            ]
          },
          "metadata": {}
        }
      ],
      "source": [
        "dict_ndcg = {\n",
        "    'name':  ['BPRMF', 'BPRMF', 'BPRMF',\n",
        "              'GRU4Rec', 'GRU4Rec', 'GRU4Rec',\n",
        "              'GRU4Rec+', 'GRU4Rec+', 'GRU4Rec+',\n",
        "              'NextItNet', 'NextItNet', 'NextItNet',\n",
        "              'Caser', 'Caser', 'Caser',\n",
        "              'SASRec', 'SASRec', 'SASRec',\n",
        "              'HGN', 'HGN', 'HGN',\n",
        "              'Pref2Vec', 'Pref2Vec', 'Pref2Vec'],\n",
        "    'k':     [10, 15, 20,\n",
        "              10, 15, 20,\n",
        "              10, 15, 20,\n",
        "              10, 15, 20,\n",
        "              10, 15, 20,\n",
        "              10, 15, 20,\n",
        "              10, 15, 20,\n",
        "              10, 15, 20],\n",
        "    'value': [0.065, 0.06,  0.055,\n",
        "              0.084, 0.064, 0.058,\n",
        "              0.125, 0.107, 0.08,\n",
        "              0.116, 0.07,  0.061,\n",
        "              0.157, 0.14,  0.12,\n",
        "              0.150, 0.136, 0.119,\n",
        "              0.194, 0.16,  0.145,\n",
        "              df_comics_graphic_test['ndcg@10'].mean(),\n",
        "              df_comics_graphic_test['ndcg@15'].mean(),\n",
        "              df_comics_graphic_test['ndcg@20'].mean()]\n",
        "}\n",
        "df_ndcg = pd.DataFrame(dict_ndcg)\n",
        "\n",
        "fig = px.bar(df_ndcg, x=\"k\", y=\"value\", color='name', barmode='group',\n",
        "             labels={'value': 'NDCG@k', 'name': 'Модели:'})\n",
        "fig.show()"
      ]
    }
  ],
  "metadata": {
    "colab": {
      "provenance": []
    },
    "kernelspec": {
      "display_name": "Python 3",
      "name": "python3"
    },
    "language_info": {
      "name": "python"
    }
  },
  "nbformat": 4,
  "nbformat_minor": 0
}